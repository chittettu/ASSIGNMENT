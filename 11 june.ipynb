{
 "cells": [
  {
   "cell_type": "markdown",
   "id": "27adf20f",
   "metadata": {},
   "source": [
    "# 1. What is a lambda function in Python, and how does it differ from a regular function?"
   ]
  },
  {
   "cell_type": "markdown",
   "id": "97e2b990",
   "metadata": {},
   "source": [
    "In Python, a lambda function is a small, anonymous function that can be defined without a function name using the lambda keyword. It is also known as an \"anonymous function\" because it doesn't require a formal def statement like a regular function.\n",
    "\n",
    "The key differences between a regular function and a lambda function are as follows:\n",
    "\n",
    "Syntax: A regular function uses the def keyword, a function name, and a block of code enclosed within parentheses, while a lambda function is defined using the lambda keyword and consists of a single expression.\n",
    "\n",
    "Function Name: A regular function has a name that can be used to call it later, whereas a lambda function is anonymous and doesn't have a name. However, it can be assigned to a variable and called through that variable.\n",
    "\n",
    "Complexity: Regular functions can have multiple statements, contain control flow structures like loops and conditionals, and have more extensive logic. Lambda functions, on the other hand, are limited to a single expression, making them more concise and suitable for simpler operations.\n",
    "\n",
    "Overall, lambda functions are useful when you need to create a small, throwaway function without defining a formal named function. They are commonly used for quick, one-line operations and as arguments to higher-order functions."
   ]
  },
  {
   "cell_type": "code",
   "execution_count": 1,
   "id": "81ebf05e",
   "metadata": {},
   "outputs": [
    {
     "name": "stdout",
     "output_type": "stream",
     "text": [
      "81\n"
     ]
    }
   ],
   "source": [
    "lambda_square = lambda x: x ** 2\n",
    "\n",
    "print(lambda_square(9))"
   ]
  },
  {
   "cell_type": "markdown",
   "id": "163ee9a9",
   "metadata": {},
   "source": [
    "# 2. Can a lambda function in Python have multiple arguments? If yes, how can you define and use them?"
   ]
  },
  {
   "cell_type": "markdown",
   "id": "be3684b5",
   "metadata": {},
   "source": [
    "Yes, a lambda function in Python can have multiple arguments. The general syntax for a lambda function with multiple arguments is: "
   ]
  },
  {
   "cell_type": "code",
   "execution_count": 2,
   "id": "4133c999",
   "metadata": {},
   "outputs": [
    {
     "name": "stdout",
     "output_type": "stream",
     "text": [
      "8\n"
     ]
    }
   ],
   "source": [
    "add = lambda x, y: x + y\n",
    "result = add(3, 5)\n",
    "print(result)\n"
   ]
  },
  {
   "cell_type": "markdown",
   "id": "4fe9582a",
   "metadata": {},
   "source": [
    "# 3. How are lambda functions typically used in Python? Provide an example use case.\n"
   ]
  },
  {
   "cell_type": "markdown",
   "id": "6d570d7e",
   "metadata": {},
   "source": [
    "Lambda functions in Python are typically used for short-term, one-off operations where defining a full function using the def keyword might be considered unnecessary. They are often employed in functional programming constructs, such as map, filter, and sorted, where a function is required as an argument."
   ]
  },
  {
   "cell_type": "code",
   "execution_count": 4,
   "id": "fddf07a4",
   "metadata": {},
   "outputs": [
    {
     "name": "stdout",
     "output_type": "stream",
     "text": [
      "[1, 4, 9, 16, 25]\n"
     ]
    }
   ],
   "source": [
    "\n",
    "numbers = [1, 2, 3, 4, 5]\n",
    "squared_numbers = list(map(lambda x: x**2, numbers))\n",
    "print(squared_numbers)\n"
   ]
  },
  {
   "cell_type": "markdown",
   "id": "f3473645",
   "metadata": {},
   "source": [
    "# 4.What are the advantages and limitations of lambda functions compared to regular functions in Python?"
   ]
  },
  {
   "cell_type": "raw",
   "id": "4e4f1733",
   "metadata": {},
   "source": [
    "Advantages of Lambda Functions:\n",
    "\n",
    "Conciseness: Lambda functions are concise and allow you to write short, one-line functions. This can be advantageous in situations where brevity is essential.\n",
    "\n",
    "Readability in Certain Cases:\n",
    "For simple operations, lambda functions can enhance code readability, especially when used with higher-order functions like map, filter, and sorted.\n",
    "\n",
    "No Need for a Separate Name:\n",
    "Lambda functions do not require a separate name declaration using the def keyword. This is useful when you need a small, temporary function for a short period.\n",
    "\n",
    "Functional Programming:\n",
    "Lambda functions fit well with the functional programming paradigm and are often used with functions that take other functions as arguments (e.g., map, filter).\n",
    "\n",
    "Limitations of Lambda Functions:\n",
    "\n",
    "Limited Expressiveness:\n",
    "Lambda functions are limited to a single expression. They can't contain statements or multiple expressions. This limitation makes them unsuitable for more complex logic.\n",
    "\n",
    "Limited Documentation:\n",
    "Lambda functions lack the ability to include docstrings. This makes it challenging to provide detailed documentation for the function's purpose and usage.\n",
    "\n",
    "Limited Reusability:\n",
    "Lambda functions are typically used for short-term, specific tasks. For more complex or frequently used functions, it is often better to define a full function using the def keyword for better reusability and maintainability.\n",
    "\n",
    "Reduced Readability for Complex Logic:\n",
    "For more complicated operations, using a lambda function might reduce code readability. In such cases, a named function with a clear structure and documentation is preferable.\n",
    "\n",
    "Debugging Challenges:\n",
    "When debugging, lambda functions can be less convenient since they lack a name. Error messages may refer to the lambda expression itself, making it harder to pinpoint issues in the code."
   ]
  },
  {
   "cell_type": "markdown",
   "id": "2e95550d",
   "metadata": {},
   "source": [
    "# 5. Are lambda functions in Python able to access variables defined outside of their own scope? Explain with an example."
   ]
  },
  {
   "cell_type": "markdown",
   "id": "c822f054",
   "metadata": {},
   "source": [
    "Yes, lambda functions in Python can access variables defined outside of their own scope. This is possible because lambda functions can capture variables in their surrounding scope, a behavior known as \"lexical scoping\" or \"closure.\" The variables are \"closed over\" and can be used within the lambda function even after they have gone out of scope in the outer function."
   ]
  },
  {
   "cell_type": "code",
   "execution_count": 5,
   "id": "2c869023",
   "metadata": {},
   "outputs": [
    {
     "name": "stdout",
     "output_type": "stream",
     "text": [
      "15\n"
     ]
    }
   ],
   "source": [
    "def outer_function(x):\n",
    "    # Define a lambda function that uses the variable 'x' from the outer scope\n",
    "    inner_lambda = lambda y: x + y\n",
    "    return inner_lambda\n",
    "\n",
    "# Create a closure by calling the outer function\n",
    "closure = outer_function(10)\n",
    "\n",
    "# Use the closure (lambda function) with a new argument\n",
    "result = closure(5)\n",
    "\n",
    "print(result)  # Output: 15\n"
   ]
  },
  {
   "cell_type": "markdown",
   "id": "545682e7",
   "metadata": {},
   "source": [
    "# 6. Write a lambda function to calculate the square of a given number.\n"
   ]
  },
  {
   "cell_type": "code",
   "execution_count": 6,
   "id": "a4a30720",
   "metadata": {},
   "outputs": [],
   "source": [
    "square = lambda x: x**2\n"
   ]
  },
  {
   "cell_type": "code",
   "execution_count": 7,
   "id": "1a30939a",
   "metadata": {},
   "outputs": [
    {
     "name": "stdout",
     "output_type": "stream",
     "text": [
      "25\n"
     ]
    }
   ],
   "source": [
    "result = square(5)\n",
    "print(result)  # Output: 25\n"
   ]
  },
  {
   "cell_type": "markdown",
   "id": "668157a2",
   "metadata": {},
   "source": [
    "# 7. Create a lambda function to find the maximum value in a list of integers.\n"
   ]
  },
  {
   "cell_type": "code",
   "execution_count": 8,
   "id": "142d69bb",
   "metadata": {},
   "outputs": [],
   "source": [
    "find_max = lambda lst: max(lst)\n"
   ]
  },
  {
   "cell_type": "code",
   "execution_count": 9,
   "id": "3ebf260e",
   "metadata": {},
   "outputs": [
    {
     "name": "stdout",
     "output_type": "stream",
     "text": [
      "25\n"
     ]
    }
   ],
   "source": [
    "numbers = [4, 12, 7, 25, 9, 15]\n",
    "max_value = find_max(numbers)\n",
    "print(max_value)  # Output: 25\n"
   ]
  },
  {
   "cell_type": "markdown",
   "id": "864e3eca",
   "metadata": {},
   "source": [
    "# 8. Implement a lambda function to filter out all the even numbers from a list of integers."
   ]
  },
  {
   "cell_type": "code",
   "execution_count": 11,
   "id": "ceb85080",
   "metadata": {},
   "outputs": [
    {
     "name": "stdout",
     "output_type": "stream",
     "text": [
      "[2, 4, 6, 8, 10]\n"
     ]
    }
   ],
   "source": [
    "filter_even = lambda lst: list(filter(lambda x: x % 2 == 0, lst))\n",
    "numbers = [1, 2, 3, 4, 5, 6, 7, 8, 9, 10]\n",
    "filtered_list = filter_even(numbers)\n",
    "print(filtered_list)\n"
   ]
  },
  {
   "cell_type": "markdown",
   "id": "63e82133",
   "metadata": {},
   "source": [
    "# 9. Write a lambda function to sort a list of strings in ascending order based on the length of each string."
   ]
  },
  {
   "cell_type": "code",
   "execution_count": 12,
   "id": "2abf4a60",
   "metadata": {},
   "outputs": [],
   "source": [
    "sort_by_length = lambda str_list: sorted(str_list, key=lambda x: len(x))\n"
   ]
  },
  {
   "cell_type": "code",
   "execution_count": 13,
   "id": "19461cfc",
   "metadata": {},
   "outputs": [
    {
     "name": "stdout",
     "output_type": "stream",
     "text": [
      "['kiwi', 'apple', 'grape', 'banana', 'orange']\n"
     ]
    }
   ],
   "source": [
    "strings = [\"apple\", \"banana\", \"kiwi\", \"orange\", \"grape\"]\n",
    "sorted_strings = sort_by_length(strings)\n",
    "print(sorted_strings)\n"
   ]
  },
  {
   "cell_type": "markdown",
   "id": "984b9de7",
   "metadata": {},
   "source": [
    "# 10. Create a lambda function that takes two lists as input and returns a new list containing the common elements between the two lists.\n"
   ]
  },
  {
   "cell_type": "code",
   "execution_count": 14,
   "id": "e9b8d66f",
   "metadata": {},
   "outputs": [],
   "source": [
    "find_common_elements = lambda list1, list2: list(filter(lambda x: x in list1, list2))\n"
   ]
  },
  {
   "cell_type": "code",
   "execution_count": 15,
   "id": "b314dba5",
   "metadata": {},
   "outputs": [
    {
     "name": "stdout",
     "output_type": "stream",
     "text": [
      "[3, 4, 5]\n"
     ]
    }
   ],
   "source": [
    "list1 = [1, 2, 3, 4, 5]\n",
    "list2 = [3, 4, 5, 6, 7]\n",
    "common_elements = find_common_elements(list1, list2)\n",
    "print(common_elements)\n"
   ]
  },
  {
   "cell_type": "markdown",
   "id": "4de171f0",
   "metadata": {},
   "source": [
    "# 11. Write a recursive function to calculate the factorial of a given positive integer"
   ]
  },
  {
   "cell_type": "code",
   "execution_count": 16,
   "id": "f42617a5",
   "metadata": {},
   "outputs": [
    {
     "name": "stdout",
     "output_type": "stream",
     "text": [
      "120\n"
     ]
    }
   ],
   "source": [
    "def factorial(n):\n",
    "    # Base case: factorial of 0 is 1\n",
    "    if n == 0:\n",
    "        return 1\n",
    "    # Recursive case: n! = n * (n-1)!\n",
    "    else:\n",
    "        return n * factorial(n - 1)\n",
    "\n",
    "# Example usage:\n",
    "result = factorial(5)\n",
    "print(result)\n"
   ]
  },
  {
   "cell_type": "markdown",
   "id": "8bbc98cd",
   "metadata": {},
   "source": [
    "# 12. Implement a recursive function to compute the nth Fibonacci number.\n"
   ]
  },
  {
   "cell_type": "code",
   "execution_count": 17,
   "id": "a40f5869",
   "metadata": {},
   "outputs": [
    {
     "name": "stdout",
     "output_type": "stream",
     "text": [
      "13\n"
     ]
    }
   ],
   "source": [
    "def fibonacci(n):\n",
    "    # Base case: Fibonacci of 0 is 0, and Fibonacci of 1 is 1\n",
    "    if n == 0:\n",
    "        return 0\n",
    "    elif n == 1:\n",
    "        return 1\n",
    "    # Recursive case: Fibonacci(n) = Fibonacci(n-1) + Fibonacci(n-2)\n",
    "    else:\n",
    "        return fibonacci(n - 1) + fibonacci(n - 2)\n",
    "\n",
    "# Example usage:\n",
    "result = fibonacci(7)\n",
    "print(result)\n"
   ]
  },
  {
   "cell_type": "markdown",
   "id": "9cc731cc",
   "metadata": {},
   "source": [
    "# 13. Create a recursive function to find the sum of all the elements in a given list"
   ]
  },
  {
   "cell_type": "code",
   "execution_count": 20,
   "id": "88bb6172",
   "metadata": {},
   "outputs": [
    {
     "name": "stdout",
     "output_type": "stream",
     "text": [
      "15\n"
     ]
    }
   ],
   "source": [
    "def recursive_sum(lst):\n",
    "    # Base case: if the list is empty, the sum is 0\n",
    "    if not lst:\n",
    "        return 0\n",
    "    # Recursive case: sum of the first element and the sum of the rest of the list\n",
    "    else:\n",
    "        return lst[0] + recursive_sum(lst[1:])\n",
    "\n",
    "# Example usage:\n",
    "numbers = [1, 2, 3, 4, 5]\n",
    "result = recursive_sum(numbers)\n",
    "print(result)\n"
   ]
  },
  {
   "cell_type": "markdown",
   "id": "b20a1853",
   "metadata": {},
   "source": [
    "# 14. Write a recursive function to determine whether a given string is a palindrome."
   ]
  },
  {
   "cell_type": "code",
   "execution_count": 21,
   "id": "e9e0fa8c",
   "metadata": {},
   "outputs": [
    {
     "name": "stdout",
     "output_type": "stream",
     "text": [
      "True\n",
      "False\n"
     ]
    }
   ],
   "source": [
    "def is_palindrome(s):\n",
    "    # Base case: an empty string or a string with one character is a palindrome\n",
    "    if len(s) <= 1:\n",
    "        return True\n",
    "    # Recursive case: check if the first and last characters are equal,\n",
    "    # and if the substring between them is also a palindrome\n",
    "    else:\n",
    "        return s[0] == s[-1] and is_palindrome(s[1:-1])\n",
    "\n",
    "# Example usage:\n",
    "result1 = is_palindrome(\"radar\")\n",
    "result2 = is_palindrome(\"python\")\n",
    "\n",
    "print(result1)  # Output: True\n",
    "print(result2)  # Output: False\n"
   ]
  },
  {
   "cell_type": "markdown",
   "id": "1d62da93",
   "metadata": {},
   "source": [
    "# 15. Implement a recursive function to find the greatest common divisor (GCD) of two positive integers."
   ]
  },
  {
   "cell_type": "code",
   "execution_count": 22,
   "id": "2fadd2eb",
   "metadata": {},
   "outputs": [
    {
     "name": "stdout",
     "output_type": "stream",
     "text": [
      "6\n"
     ]
    }
   ],
   "source": [
    "def gcd(a, b):\n",
    "    # Base case: GCD(a, 0) = a, and GCD(0, b) = b\n",
    "    if b == 0:\n",
    "        return a\n",
    "    # Recursive case: GCD(a, b) = GCD(b, a % b)\n",
    "    else:\n",
    "        return gcd(b, a % b)\n",
    "\n",
    "# Example usage:\n",
    "result = gcd(48, 18)\n",
    "print(result)\n",
    "\n",
    "\n"
   ]
  }
 ],
 "metadata": {
  "kernelspec": {
   "display_name": "Python 3 (ipykernel)",
   "language": "python",
   "name": "python3"
  },
  "language_info": {
   "codemirror_mode": {
    "name": "ipython",
    "version": 3
   },
   "file_extension": ".py",
   "mimetype": "text/x-python",
   "name": "python",
   "nbconvert_exporter": "python",
   "pygments_lexer": "ipython3",
   "version": "3.9.12"
  }
 },
 "nbformat": 4,
 "nbformat_minor": 5
}
