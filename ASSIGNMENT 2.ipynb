{
 "cells": [
  {
   "cell_type": "markdown",
   "id": "74bbf876",
   "metadata": {},
   "source": [
    "# 1.What are the two values of the Boolean data type? How do you write them?\n",
    "Two values are typically represented by the Boolean data type: true and false. In programming and computer science, these values are used to represent logical conditions or binary states.\n",
    "\n",
    "The Boolean values are typically expressed as \"true\" and \"false\" in programming languages"
   ]
  },
  {
   "cell_type": "markdown",
   "id": "fcdd9765",
   "metadata": {},
   "source": [
    "# 2. What are the three different types of Boolean operators?\n",
    "And operator: If both operands are true, the AND operator returns true; otherwise, it returns false. In many programming languages, it is typically represented by the word \"and.\"\n",
    "eg: x = True\n",
    "y = False\n",
    "result = x and y result is False\n",
    "\n",
    "\n",
    "Or operator: If at least one of the operands is true, the OR operator returns true; if both operands are false, it returns false. In programming languages, it is typically denoted by the symbol \"||\" or the word \"or.\"\n",
    "eg:x = True\n",
    "y = False\n",
    "result = x or y  result is True\n",
    "\n",
    "\n",
    "Not operator: The NOT operator negates the Boolean value of its operand. If the operand is true, the NOT operator returns false, and if the operand is false, it returns true. It is typically represented by the symbol \"!\" or the keyword \"not\" in programming languages. \n",
    "\n",
    "eg: x = True\n",
    "result = not x result is False"
   ]
  },
  {
   "cell_type": "markdown",
   "id": "7cd453ee",
   "metadata": {},
   "source": [
    "# 3. Make a list of each Boolean operator's truth tables (i.e. every possible combination of Boolean values for the operator and what it evaluate ).\n",
    "\n",
    "And operator:\n",
    "\n",
    "| Operand 1 | Operand 2 | Result |\n",
    "|-----------|-----------|--------|\n",
    "|   false   |   false   | false  |\n",
    "|   false   |   true    | false  |\n",
    "|   true    |   false   | false  |\n",
    "|   true    |   true    | true   |\n",
    "\n",
    "Or operator:\n",
    "\n",
    "| Operand 1 | Operand 2 | Result |\n",
    "|-----------|-----------|--------|\n",
    "|   false   |   false   | false  |\n",
    "|   false   |   true    | true   |\n",
    "|   true    |   false   | true   |\n",
    "|   true    |   true    | true   |\n",
    "\n",
    "Not operator:\n",
    "\n",
    "| Operand | Result |\n",
    "|---------|--------|\n",
    "|  false  |  true  |\n",
    "|  true   | false  |"
   ]
  },
  {
   "cell_type": "markdown",
   "id": "aadce894",
   "metadata": {},
   "source": [
    "# 4. What are the values of the following expressions?"
   ]
  },
  {
   "cell_type": "code",
   "execution_count": 2,
   "id": "8ac956d3",
   "metadata": {},
   "outputs": [
    {
     "data": {
      "text/plain": [
       "False"
      ]
     },
     "execution_count": 2,
     "metadata": {},
     "output_type": "execute_result"
    }
   ],
   "source": [
    "(5 > 4) and (3 == 5)"
   ]
  },
  {
   "cell_type": "code",
   "execution_count": 3,
   "id": "41c411f4",
   "metadata": {},
   "outputs": [
    {
     "data": {
      "text/plain": [
       "False"
      ]
     },
     "execution_count": 3,
     "metadata": {},
     "output_type": "execute_result"
    }
   ],
   "source": [
    "not (5 > 4)"
   ]
  },
  {
   "cell_type": "code",
   "execution_count": 4,
   "id": "fea208bd",
   "metadata": {},
   "outputs": [
    {
     "data": {
      "text/plain": [
       "True"
      ]
     },
     "execution_count": 4,
     "metadata": {},
     "output_type": "execute_result"
    }
   ],
   "source": [
    "(5 > 4) or (3 == 5)"
   ]
  },
  {
   "cell_type": "code",
   "execution_count": 5,
   "id": "b79fc7bb",
   "metadata": {},
   "outputs": [
    {
     "data": {
      "text/plain": [
       "False"
      ]
     },
     "execution_count": 5,
     "metadata": {},
     "output_type": "execute_result"
    }
   ],
   "source": [
    "not ((5 > 4) or (3 == 5))"
   ]
  },
  {
   "cell_type": "code",
   "execution_count": 6,
   "id": "73243644",
   "metadata": {},
   "outputs": [
    {
     "data": {
      "text/plain": [
       "False"
      ]
     },
     "execution_count": 6,
     "metadata": {},
     "output_type": "execute_result"
    }
   ],
   "source": [
    "(True and True) and (True == False)"
   ]
  },
  {
   "cell_type": "code",
   "execution_count": 7,
   "id": "0cfb7336",
   "metadata": {},
   "outputs": [
    {
     "data": {
      "text/plain": [
       "True"
      ]
     },
     "execution_count": 7,
     "metadata": {},
     "output_type": "execute_result"
    }
   ],
   "source": [
    "(not False) or (not True)"
   ]
  },
  {
   "cell_type": "markdown",
   "id": "1f52cbb6",
   "metadata": {},
   "source": [
    "# 5. What are the six comparison operators?\n",
    "1. Equal to (==): This operator checks if two operands are equal and returns true if they are, and false otherwise. \n",
    "\n",
    "2. Not equal to (!=): This operator checks if two operands are not equal and returns true if they are not equal, and false if they are equal.\n",
    "\n",
    "3. Greater than (>): This operator checks if the left operand is greater than the right operand and returns true if it is, and false otherwise. \n",
    "\n",
    "4. Less than (<): This operator checks if the left operand is less than the right operand and returns true if it is, and false otherwise.\n",
    "\n",
    "5. Greater than or equal to (>=): This operator checks if the left operand is greater than or equal to the right operand and returns true if it is, and false otherwise. \n",
    "\n",
    "6. Less than or equal to (<=): This operator checks if the left operand is less than or equal to the right operand and returns true if it is, and false otherwise. "
   ]
  },
  {
   "cell_type": "markdown",
   "id": "8b2531f4",
   "metadata": {},
   "source": [
    "# 6. How do you tell the difference between the equal to and assignment operators?Describe a condition and when you would use one.\n",
    "The equality comparison operator (==) is used to determine whether two values are equal. It determines whether the value on the left and the value on the right are equal and returns true if they are and false if they are not. The equal to operator is typically used to evaluate conditions in conditional statements or expressions.\n"
   ]
  },
  {
   "cell_type": "code",
   "execution_count": 11,
   "id": "abd5ef57",
   "metadata": {},
   "outputs": [
    {
     "name": "stdout",
     "output_type": "stream",
     "text": [
      "not equal\n"
     ]
    }
   ],
   "source": [
    "x = 5\n",
    "y = 10\n",
    "if x == y:\n",
    "    print(\"x and y are equal\")\n",
    "else:\n",
    "        print('not equal')"
   ]
  },
  {
   "cell_type": "markdown",
   "id": "fec528ca",
   "metadata": {},
   "source": [
    "Assignment operator (=): This operator is used to assign a value on the right side to a variable on the left side. It assigns the value on the right side to the variable and does not return any value. The assignment operator is used when you want to store a value in a variable or update its value."
   ]
  },
  {
   "cell_type": "code",
   "execution_count": 13,
   "id": "c9fb21b7",
   "metadata": {},
   "outputs": [
    {
     "name": "stdout",
     "output_type": "stream",
     "text": [
      "8\n"
     ]
    }
   ],
   "source": [
    "x = 5\n",
    "y = x + 3\n",
    "print(y)"
   ]
  },
  {
   "cell_type": "markdown",
   "id": "25cc6bbd",
   "metadata": {},
   "source": [
    "# 7. Identify the three blocks in this code:\n",
    "spam = 0\n",
    "if spam == 10:\n",
    "print('eggs')\n",
    "if spam > 5:\n",
    "print('bacon')\n",
    "else:\n",
    "print('ham')\n",
    "print('spam')\n",
    "print('spam')\n"
   ]
  },
  {
   "cell_type": "code",
   "execution_count": 14,
   "id": "ee8fd0d2",
   "metadata": {},
   "outputs": [],
   "source": [
    "spam=0\n",
    "if spam==10:\n",
    "    print(\"eggs\")"
   ]
  },
  {
   "cell_type": "code",
   "execution_count": 17,
   "id": "9a3d641d",
   "metadata": {},
   "outputs": [
    {
     "name": "stdout",
     "output_type": "stream",
     "text": [
      "ham\n",
      "spam\n",
      "spam\n"
     ]
    }
   ],
   "source": [
    "if spam > 5:\n",
    "    print('bacon')\n",
    "else:\n",
    "    print('ham')\n",
    "    print('spam')\n",
    "    print('spam')"
   ]
  },
  {
   "cell_type": "markdown",
   "id": "8b496592",
   "metadata": {},
   "source": [
    "# 8. Write code that prints Hello if 1 is stored in spam, prints Howdy if 2 is stored in spam, and prints Greetings! if anything else is stored in spam."
   ]
  },
  {
   "cell_type": "code",
   "execution_count": 18,
   "id": "e409f4ec",
   "metadata": {},
   "outputs": [
    {
     "name": "stdout",
     "output_type": "stream",
     "text": [
      "Greetings!\n"
     ]
    }
   ],
   "source": [
    "spam=10\n",
    "if spam == 1:\n",
    "    print(\"Hello\")\n",
    "elif spam == 2:\n",
    "    print(\"Howdy\")\n",
    "else:\n",
    "    print(\"Greetings!\")"
   ]
  },
  {
   "cell_type": "markdown",
   "id": "18fdadbc",
   "metadata": {},
   "source": [
    "# 9. If your programme is stuck in an endless loop, what keys you’ll press?\n",
    "\n",
    "ctrl+c"
   ]
  },
  {
   "cell_type": "markdown",
   "id": "88c12b1f",
   "metadata": {},
   "source": [
    "# 10. How can you tell the difference between break and continue?\n",
    "Break statement: When encountered within a loop (such as a for or while loop), the break statement immediately terminates the loop and exits its execution, regardless of any remaining iterations. It allows you to prematurely end the loop and continue with the next statement after the loop.\n",
    "\n",
    "\n",
    "continue statement: When encountered within a loop, the continue statement immediately skips the remaining code within the loop for the current iteration and proceeds to the next iteration. It allows you to bypass the remaining statements in the loop's body and start the next iteration."
   ]
  },
  {
   "cell_type": "markdown",
   "id": "39571453",
   "metadata": {},
   "source": [
    "# 11. In a for loop, what is the difference between range(10), range(0, 10), and range(0, 10, 1)?\n",
    "\n",
    "range(10): Start from 0 and ends in 9.\n",
    "\n",
    "range(0,10): Start from 0 because the start value is mentioned as 0 and end value as 9.\n",
    "\n",
    "range(0,10,1):  This form of range specifies the start, stop, and step values explicitly. It generates a sequence of numbers starting from the specified start value (0 in this case) up to, but not including, the specified stop value (10 in this case) with a step size of 1 (explicitly specified). The start value is inclusive, while the stop value is exclusive."
   ]
  },
  {
   "cell_type": "code",
   "execution_count": 20,
   "id": "7fe7d74f",
   "metadata": {},
   "outputs": [
    {
     "name": "stdout",
     "output_type": "stream",
     "text": [
      "0\n",
      "1\n",
      "2\n",
      "3\n",
      "4\n",
      "5\n",
      "6\n",
      "7\n",
      "8\n",
      "9\n"
     ]
    }
   ],
   "source": [
    "for i in range(10):\n",
    "    print(i)"
   ]
  },
  {
   "cell_type": "code",
   "execution_count": 21,
   "id": "6bab996b",
   "metadata": {},
   "outputs": [
    {
     "name": "stdout",
     "output_type": "stream",
     "text": [
      "0\n",
      "1\n",
      "2\n",
      "3\n",
      "4\n",
      "5\n",
      "6\n",
      "7\n",
      "8\n",
      "9\n"
     ]
    }
   ],
   "source": [
    "for i in range(0,10):\n",
    "    print(i)"
   ]
  },
  {
   "cell_type": "code",
   "execution_count": 25,
   "id": "8866f95a",
   "metadata": {},
   "outputs": [
    {
     "name": "stdout",
     "output_type": "stream",
     "text": [
      "0\n",
      "1\n",
      "2\n",
      "3\n",
      "4\n",
      "5\n",
      "6\n",
      "7\n",
      "8\n",
      "9\n"
     ]
    }
   ],
   "source": [
    "for i in range(0,10,1):\n",
    "    print(i)"
   ]
  },
  {
   "cell_type": "markdown",
   "id": "0f1df5ca",
   "metadata": {},
   "source": [
    "# 12. Write a short program that prints the numbers 1 to 10 using a for loop. Then write an equivalent program that prints the numbers 1 to 10 using a while loop.\n"
   ]
  },
  {
   "cell_type": "code",
   "execution_count": 26,
   "id": "b9706900",
   "metadata": {},
   "outputs": [
    {
     "name": "stdout",
     "output_type": "stream",
     "text": [
      "1\n",
      "2\n",
      "3\n",
      "4\n",
      "5\n",
      "6\n",
      "7\n",
      "8\n",
      "9\n",
      "10\n"
     ]
    }
   ],
   "source": [
    "for i in range(1,11):\n",
    "    print(i)"
   ]
  },
  {
   "cell_type": "code",
   "execution_count": 1,
   "id": "d01cadd8",
   "metadata": {},
   "outputs": [
    {
     "name": "stdout",
     "output_type": "stream",
     "text": [
      "1\n",
      "2\n",
      "3\n",
      "4\n",
      "5\n",
      "6\n",
      "7\n",
      "8\n",
      "9\n",
      "10\n"
     ]
    }
   ],
   "source": [
    "i=1\n",
    "while i<=10:\n",
    "    print(i)\n",
    "    i=i+1"
   ]
  },
  {
   "cell_type": "markdown",
   "id": "13bbd800",
   "metadata": {},
   "source": [
    "# 13. If you had a function named bacon() inside a module named spam, how would you call it after importing spam?\n",
    "\n",
    "\n",
    "import spam\n",
    "\n",
    "spam.bacon()"
   ]
  }
 ],
 "metadata": {
  "kernelspec": {
   "display_name": "Python 3 (ipykernel)",
   "language": "python",
   "name": "python3"
  },
  "language_info": {
   "codemirror_mode": {
    "name": "ipython",
    "version": 3
   },
   "file_extension": ".py",
   "mimetype": "text/x-python",
   "name": "python",
   "nbconvert_exporter": "python",
   "pygments_lexer": "ipython3",
   "version": "3.9.12"
  }
 },
 "nbformat": 4,
 "nbformat_minor": 5
}
