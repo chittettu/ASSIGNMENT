{
 "cells": [
  {
   "cell_type": "markdown",
   "id": "cb7adbe1",
   "metadata": {},
   "source": [
    "# 1. Why are functions advantageous to have in your programs?\n",
    "Reusability: Using functions, you can enclose a section of code that completes a particular task. The ability to reuse that code in various areas of your program or in other programs is facilitated by this. You can call the function whenever you need to complete that task rather than writing the same code more than once.\n",
    "\n",
    "\n",
    "Modularity: Functions encourage modularity by dividing a program into more manageable, independent units of code. Each function can concentrate on a particular task or functionality, which improves the program's overall organization and clarity. Additionally, modularity fosters independence among team members so that collaboration and code maintenance are improved.\n",
    "\n",
    "\n",
    "Abstraction: Functions make abstraction possible by concealing the specifics of how a task is implemented behind a function interface. You don't need to understand how a function internally completes the task in order to call it; all you need to know is what inputs and outputs it expects. This abstraction facilitates readability of the code and makes program development easier.\n",
    "\n",
    "\n",
    "Code reuse and maintenance: You can create reusable code blocks that can be called repeatedly by using functions. You only have to alter the function's implementation once to make changes or fix a bug, and all the places where the function is used will immediately take those changes into account. This greatly reduces the complexity of code maintenance and the likelihood of error introduction.\n",
    "\n",
    "Readability and organization: Functions assist in the logical organization of code. You can make your code easier to read by decomposing larger programs into smaller functions. Because each function serves a particular purpose, it is simpler to comprehend the program's overall layout and flow. Code that is clear and well-organized is easier to maintain and less likely to contain errors.\n",
    "\n",
    "\n",
    "Testing and debugging are made simpler by the use of functions. Functions can be tested independently because they are modular and encapsulated, which makes it simpler to isolate and spot problems. Additionally, functions with clearly defined inputs and outputs are amenable to automated testing, which can help to ensure that your program is correct.\n",
    "\n",
    "\n"
   ]
  },
  {
   "cell_type": "markdown",
   "id": "0ad873f8",
   "metadata": {},
   "source": [
    "# 2. When does the code in a function run: when it's specified or when it's called?\n",
    "\n",
    "When a function is called or invoked, the code inside of it runs. The function itself serves as a defined and stored reusable block of code, but it does not run its code until it is specifically called.\n",
    "\n",
    "A function is defined by a block of code that details the operations the function should carry out when it is called. However, after the function is defined, this code is not immediately run. It only works if the function is called directly by name and all necessary arguments and parameters are passed in."
   ]
  },
  {
   "cell_type": "markdown",
   "id": "a18ff8ee",
   "metadata": {},
   "source": [
    "# 3. What statement creates a function?\n",
    "\n",
    "In Python, the def statement is used to create a function."
   ]
  },
  {
   "cell_type": "code",
   "execution_count": 1,
   "id": "8067a37b",
   "metadata": {},
   "outputs": [],
   "source": [
    "def square(number):\n",
    "    result = number ** 2\n",
    "    return result"
   ]
  },
  {
   "cell_type": "code",
   "execution_count": 3,
   "id": "04404cff",
   "metadata": {},
   "outputs": [
    {
     "name": "stdout",
     "output_type": "stream",
     "text": [
      "100\n"
     ]
    }
   ],
   "source": [
    "result = square(10)\n",
    "print(result)"
   ]
  },
  {
   "cell_type": "markdown",
   "id": "a1f24228",
   "metadata": {},
   "source": [
    "# 4. What is the difference between a function and a function call?\n",
    "A function in Python is a section of code that is designated to carry out a particular task. It contains a set of instructions that can be called whenever necessary and repeated multiple times. A function is created by using the def statement, and it consists of a code block that defines its behavior, optional function parameters, and a function name.\n",
    "\n",
    "The actual execution of a function, on the other hand, occurs during a function call. It involves calling a function and getting the code inside of its body to run. The program flow shifts to the function definition upon encountering a function call, runs the code within the function, and then loops back to the function call."
   ]
  },
  {
   "cell_type": "markdown",
   "id": "e5a951d0",
   "metadata": {},
   "source": [
    "# 5. How many global scopes are there in a Python program? How many local scopes?\n",
    "There is typically one global scope and many local scopes in a Python program.\n",
    "\n",
    "Global Scope: The topmost level of a Python program is referred to as the global scope. It is accessible throughout the entire program and exists independently of any definition of a function or class. All program locations can access variables, functions, and classes defined in the global scope.\n",
    "\n",
    "Local Scopes: When a function is called or when control enters a code block like a loop or conditional statement, local scopes are created. A new local scope is created for a function each time it is called. Only that scope and its nested scopes can access variables defined in a local scope. Execution exits the local scope once. "
   ]
  },
  {
   "cell_type": "markdown",
   "id": "ab4228b9",
   "metadata": {},
   "source": [
    "# 6. What happens to variables in a local scope when the function call returns?\n",
    "The local scope connected to a function call in Python is destroyed when the function returns, making the variables defined therein inaccessible.\n",
    "\n",
    "Variable cleanup is done by Python in the local scope after the function call returns. In other words, all variables defined inside the function as well as any temporary variables created while it was being executed are erased from memory. These variables free up memory that could be used for other purposes.\n",
    "\n",
    "Inaccessibility of Variables: After a function call completes, any variables defined in the local scope are no longer accessible from outside the function. Any attempts to access these variables will fail. This is due to the fact that local variables are only valid within the confines of the function that they are defined in.\n",
    "\n",
    "Return Value: If a function has a return statement, the caller of the function receives the value specified in the return statement. This enables the function to give the calling code a result or output. The variables that were used to compute or store the return value in the local scope, however, are no longer there."
   ]
  },
  {
   "cell_type": "markdown",
   "id": "d35d7190",
   "metadata": {},
   "source": [
    "# 7. What is the concept of a return value? Is it possible to have a return value in an expression?\n",
    "The value that a function sends back to the caller after it has finished running is referred to as a return value. It permits the code that called or invoked the function to receive a result or output from the function.\n",
    "\n",
    "A function in Python can specify the value it wants to send back as the return value using the return statement. The function immediately ends and the specified value is returned to the caller when a return statement is encountered. Any data type, including numbers, strings, lists, and even complex objects, can be used for the return value."
   ]
  },
  {
   "cell_type": "code",
   "execution_count": 4,
   "id": "9fd8e64d",
   "metadata": {},
   "outputs": [
    {
     "name": "stdout",
     "output_type": "stream",
     "text": [
      "91\n"
     ]
    }
   ],
   "source": [
    "def multiply_numbers(a, b):\n",
    "    return a * b\n",
    "\n",
    "result = multiply_numbers(9, 10) + 1\n",
    "print(result)"
   ]
  },
  {
   "cell_type": "markdown",
   "id": "046fbd34",
   "metadata": {},
   "source": [
    "# 8. If a function does not have a return statement, what is the return value of a call to that function?\n",
    "If a function does not have a return statement, the return value of a call to that function is None.\n",
    "\n",
    "In Python, None is a special object that represents the absence of a value. It serves as the default return value for a function that does not explicitly specify a return value using the return statement.\n"
   ]
  },
  {
   "cell_type": "code",
   "execution_count": 6,
   "id": "50652c1a",
   "metadata": {},
   "outputs": [
    {
     "name": "stdout",
     "output_type": "stream",
     "text": [
      "Hello, RAHUL!\n",
      "None\n"
     ]
    }
   ],
   "source": [
    "def greet(name):\n",
    "    print(\"Hello, \" + name + \"!\")\n",
    "\n",
    "result = greet(\"RAHUL\")\n",
    "print(result) "
   ]
  },
  {
   "cell_type": "markdown",
   "id": "0d5ae5ae",
   "metadata": {},
   "source": [
    "# 9. How do you make a function variable refer to the global variable?\n",
    "In Python, if you want to make a function variable refer to a global variable, you can use the global keyword within the function. The global keyword allows you to indicate that a variable should be treated as a global variable, even if there is a local variable with the same name"
   ]
  },
  {
   "cell_type": "markdown",
   "id": "013eca2b",
   "metadata": {},
   "source": [
    "# 10. What is the data type of None?\n",
    "\n",
    "The data type of None in Python is NoneType.\n",
    "\n",
    "None is a special object in Python that represents the absence of a value or a null value. It is often used to indicate the lack of a meaningful result or to signify that a variable or function does not return anything."
   ]
  },
  {
   "cell_type": "markdown",
   "id": "b892de3c",
   "metadata": {},
   "source": [
    "# 11. What does the sentence import areallyourpetsnamederic do?\n",
    "The sentence \"import areallyourpetsnamederic\" is not a valid Python import statement and would result in a ModuleNotFoundError since there is no module named \"areallyourpetsnamederic\" in the Python standard library or any commonly used third-party libraries."
   ]
  },
  {
   "cell_type": "markdown",
   "id": "891e218b",
   "metadata": {},
   "source": [
    "# 12. If you had a bacon() feature in a spam module, what would you call it after importing spam?\n",
    "\n",
    "import spam\n",
    "\n",
    "spam.bacon()"
   ]
  },
  {
   "cell_type": "markdown",
   "id": "c00e0dfd",
   "metadata": {},
   "source": [
    "# 13. What can you do to save a programme from crashing if it encounters an error?\n",
    "\n",
    "To prevent a program from crashing when it encounters an error, you can use error handling techniques to catch and handle exceptions. In Python, this is done using the try-except construct. By wrapping potentially error-prone code within a try block and specifying how to handle specific exceptions in the corresponding except block, you can gracefully handle errors and ensure that the program continues running."
   ]
  },
  {
   "cell_type": "markdown",
   "id": "1020ca75",
   "metadata": {},
   "source": [
    "# 14. What is the purpose of the try clause? What is the purpose of the except clause\n",
    "\n",
    "The Python try-except construct, which is used for handling errors, is made up of both the try and except clauses. Each clause has a distinct function:\n",
    "\n",
    "\n",
    "The try clause's function is to enclose a section of code that is likely to contain an error or exception. You can indicate that you want to keep an eye out for any raised exceptions by enclosing potentially error-prone code in a try block.\n",
    "\n",
    "If an exception arises while the program is running within the try block, the remaining code is skipped in favor of the corresponding except block. The try clause's function is to give error detection a framework.\n",
    "\n",
    "The except clause's function is to specify what should happen if a specific exception arises within the corresponding try block. It specifies the exception handler code that will be run in response to a given exception.\n",
    "\n",
    "The except clause enables you to catch and handle particular exceptions so that you can respond appropriately, communicate errors, or recover gracefully from the exception. To handle various exception types, you can use multiple except blocks.\n",
    "\n",
    "The corresponding except block is executed if an exception of the type(s) specified in the except block(s) arises within the try block. The exception propagates up the call stack if no matching except block is found, which could result in the program terminating. "
   ]
  },
  {
   "cell_type": "code",
   "execution_count": null,
   "id": "8ff12794",
   "metadata": {},
   "outputs": [],
   "source": []
  }
 ],
 "metadata": {
  "kernelspec": {
   "display_name": "Python 3 (ipykernel)",
   "language": "python",
   "name": "python3"
  },
  "language_info": {
   "codemirror_mode": {
    "name": "ipython",
    "version": 3
   },
   "file_extension": ".py",
   "mimetype": "text/x-python",
   "name": "python",
   "nbconvert_exporter": "python",
   "pygments_lexer": "ipython3",
   "version": "3.9.12"
  }
 },
 "nbformat": 4,
 "nbformat_minor": 5
}
