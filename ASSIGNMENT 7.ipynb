{
 "cells": [
  {
   "cell_type": "markdown",
   "id": "0e167073",
   "metadata": {},
   "source": [
    "# Q.1. Create two int type variables, apply addition, subtraction, division and multiplications\n",
    "and store the results in variables. Then print the data in the following format by calling the\n",
    "variables:\n",
    "First variable is __ & second variable is __.\n",
    "Addition: __ + __ = __\n",
    "Subtraction: __ - __ = __\n",
    "Multiplication: __ * __ = __\n",
    "Division: __ / __ = __\n"
   ]
  },
  {
   "cell_type": "code",
   "execution_count": 9,
   "id": "e828c000",
   "metadata": {},
   "outputs": [],
   "source": [
    "def cal():\n",
    "    x=int(input(\"enter the first number\"))\n",
    "    y=int(input(\"enter the second number\"))\n",
    "    addition=x+y\n",
    "    subtraction=x-y\n",
    "    multiplication=x*y\n",
    "    division=x/y\n",
    "    print(f\"first variable is x & second variable is y\")\n",
    "    print(f\"Addition {x}+{y}={addition}\")\n",
    "    print(f\"Subtraction {x}-{y}={subtraction}\")\n",
    "    print(f\"Multiplication {x}*{y}={multiplication}\")\n",
    "    print(f\"Division {x}/{y}={division}\")"
   ]
  },
  {
   "cell_type": "code",
   "execution_count": 10,
   "id": "ca4bc930",
   "metadata": {},
   "outputs": [
    {
     "name": "stdout",
     "output_type": "stream",
     "text": [
      "enter the first number56\n",
      "enter the second number35\n",
      "first variable is x & second variable is y\n",
      "Addition 56+35=91\n",
      "Subtraction 56-35=21\n",
      "Multiplication 56*35=1960\n",
      "Division 56/35=1.6\n"
     ]
    }
   ],
   "source": [
    "cal()"
   ]
  },
  {
   "cell_type": "markdown",
   "id": "e9316560",
   "metadata": {},
   "source": [
    "# Q.2. What is the difference between the following operators:\n",
    "(i) ‘/’ & ‘//’\n",
    "(ii) ‘**’ & ‘^’"
   ]
  },
  {
   "cell_type": "markdown",
   "id": "0091c437",
   "metadata": {},
   "source": [
    "1. The '/' operator is the division operator in Python, which performs floating-point division. It returns the quotient as a float, regardless of the operand types.\n",
    "2. The '//' operator is the floor division operator in Python. It performs integer division and returns the quotient as an integer, discarding any fractional part. It gives the largest integer that is less than or equal to the division result.\n",
    "3. The '**' operator is the exponentiation operator in Python, used for raising a number to a power. It calculates the power of a number.\n",
    "4. The '^' operator, on the other hand, is the bitwise XOR (exclusive OR) operator in Python. It performs the XOR operation on the binary representations of two integers."
   ]
  },
  {
   "cell_type": "markdown",
   "id": "d14cfb32",
   "metadata": {},
   "source": [
    "# Q.3 List of logical operators"
   ]
  },
  {
   "cell_type": "markdown",
   "id": "20e608d5",
   "metadata": {},
   "source": [
    "In Python, the logical operators are used to perform logical operations on Boolean values (True or False). The logical operators in Python are:\n",
    "\n",
    "1. and: The and operator returns True if both operands are True, otherwise it returns False. It performs a logical AND operation.\n",
    "\n",
    "2. or: The or operator returns True if at least one of the operands is True, otherwise it returns False. It performs a logical OR operation.\n",
    "\n",
    "3. not: The not operator returns the opposite of the operand's Boolean value. If the operand is True, it returns False, and if the operand is False, it returns True. It performs a logical NOT operation."
   ]
  },
  {
   "cell_type": "markdown",
   "id": "b725c6f6",
   "metadata": {},
   "source": [
    "# Q.4. Explain right shift operator and left shift operator with examples"
   ]
  },
  {
   "cell_type": "markdown",
   "id": "a1f31be9",
   "metadata": {},
   "source": [
    "1.Right Shift (>>) Operator:\n",
    "The right shift operator shifts the bits of an integer to the right by a specified number of positions. The rightmost bits are discarded, and the leftmost bits are filled with the sign bit (0 for non-negative numbers, 1 for negative numbers). The result is divided by 2 raised to the power of the shift amount."
   ]
  },
  {
   "cell_type": "code",
   "execution_count": 12,
   "id": "d626c1d0",
   "metadata": {},
   "outputs": [
    {
     "name": "stdout",
     "output_type": "stream",
     "text": [
      "14\n"
     ]
    }
   ],
   "source": [
    "x=56\n",
    "result=x>>2\n",
    "print(result)"
   ]
  },
  {
   "cell_type": "markdown",
   "id": "329c0f46",
   "metadata": {},
   "source": [
    "2. Left Shift (<<) Operator:\n",
    "The left shift operator shifts the bits of an integer to the left by a specified number of positions. The rightmost bits are filled with zeros, and the leftmost bits are discarded. The result is multiplied by 2 raised to the power of the shift amount."
   ]
  },
  {
   "cell_type": "code",
   "execution_count": 13,
   "id": "594892c0",
   "metadata": {},
   "outputs": [
    {
     "name": "stdout",
     "output_type": "stream",
     "text": [
      "224\n"
     ]
    }
   ],
   "source": [
    "x=56\n",
    "result=x<<2\n",
    "print(result)"
   ]
  },
  {
   "cell_type": "markdown",
   "id": "a626c6bb",
   "metadata": {},
   "source": [
    "# Q.5. Create a list containing int type data of length 15. Then write a code to check if 10 is present in the list or not."
   ]
  },
  {
   "cell_type": "code",
   "execution_count": 35,
   "id": "bc1e26ad",
   "metadata": {
    "scrolled": true
   },
   "outputs": [
    {
     "name": "stdout",
     "output_type": "stream",
     "text": [
      "10 is present\n"
     ]
    }
   ],
   "source": [
    "lst=[56,78,87,98,44,11,43,10,98,324,424,34,13,231,42]\n",
    "if 10 in lst:\n",
    "    print('10 is present')\n",
    "else:\n",
    "    print(\"10 not present\")\n",
    "    "
   ]
  },
  {
   "cell_type": "code",
   "execution_count": null,
   "id": "e1d6acb3",
   "metadata": {},
   "outputs": [],
   "source": []
  }
 ],
 "metadata": {
  "kernelspec": {
   "display_name": "Python 3 (ipykernel)",
   "language": "python",
   "name": "python3"
  },
  "language_info": {
   "codemirror_mode": {
    "name": "ipython",
    "version": 3
   },
   "file_extension": ".py",
   "mimetype": "text/x-python",
   "name": "python",
   "nbconvert_exporter": "python",
   "pygments_lexer": "ipython3",
   "version": "3.9.12"
  }
 },
 "nbformat": 4,
 "nbformat_minor": 5
}
