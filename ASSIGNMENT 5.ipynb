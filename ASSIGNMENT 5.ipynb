{
 "cells": [
  {
   "cell_type": "markdown",
   "id": "7e096711",
   "metadata": {},
   "source": [
    "# 1. What does an empty dictionary's code look like?"
   ]
  },
  {
   "cell_type": "code",
   "execution_count": 1,
   "id": "fc06a664",
   "metadata": {},
   "outputs": [],
   "source": [
    "my_dict = {}"
   ]
  },
  {
   "cell_type": "markdown",
   "id": "08ae81cf",
   "metadata": {},
   "source": [
    "# 2. What is the value of a dictionary value with the key 'foo' and the value 42?\n"
   ]
  },
  {
   "cell_type": "code",
   "execution_count": 2,
   "id": "6ef20ca6",
   "metadata": {},
   "outputs": [
    {
     "name": "stdout",
     "output_type": "stream",
     "text": [
      "42\n"
     ]
    }
   ],
   "source": [
    "my_dict = {'foo': 42}\n",
    "value = my_dict['foo']\n",
    "print(value) "
   ]
  },
  {
   "cell_type": "markdown",
   "id": "59a89720",
   "metadata": {},
   "source": [
    "# 3. What is the most significant distinction between a dictionary and a list?\n",
    "Dictionary: A dictionary is a collection of key-value pairs that is not ordered. In a dictionary, each key is distinct and paired with a matching value. Hash tables are used by dictionaries to store and retrieve data quickly.\n",
    "\n",
    "\n",
    "List: A list is an organised grouping of components. It supports duplication of values and can hold elements of many data kinds. A list's items are accessible by using their indices, which correspond to the list's places for each element.\n",
    "\n",
    "\n",
    "Dictionary: Because dictionaries are unordered, the order in which the key-value pairs were placed is not preserved. A dictionary's entries are stored and retrieved using their hash values rather than their insertion order.\n",
    "\n",
    "List: Lists are arranged in the same order that the components were added. A list's elements are indexed and retrieved in a certain order.\n",
    "Mutability:\n",
    "\n",
    "\n",
    "Dictionary: After a dictionary has been formed, it is possible to change, add, or delete key-value pairs.\n",
    "Lists are also changeable, enabling you to change, add, or delete list elements."
   ]
  },
  {
   "cell_type": "markdown",
   "id": "36ed182e",
   "metadata": {},
   "source": [
    "# 4. What happens if you try to access spam['foo'] if spam is {'bar': 100}?\n",
    "If you try to access spam['foo'] and spam is {'bar': 100}, a KeyError will be raised."
   ]
  },
  {
   "cell_type": "markdown",
   "id": "0260f46a",
   "metadata": {},
   "source": [
    "# 5. If a dictionary is stored in spam, what is the difference between the expressions 'cat' in spam and 'cat' in spam.keys()?\n",
    "'cat' in spam: This expression determines if the word 'cat' is present in the dictionary spam. If the key is discovered, a boolean value of True is returned; otherwise, False. Without specifically invoking the keys() function, it searches the dictionary's keys for the key.\n",
    "\n",
    "spam.keys()'s \"cat\":\n",
    "The keys() function of the spam dictionary is directly called by this expression, and it returns a view object that contains the dictionary's keys. The next step is to see if this view object contains the string \"cat.\" Similar to the first expression, it behaves by returning True when the key is found and False when it is not."
   ]
  },
  {
   "cell_type": "markdown",
   "id": "0a009d22",
   "metadata": {},
   "source": [
    "# 6. If a dictionary is stored in spam, what is the difference between the expressions 'cat' in spam and 'cat' in spam.values()?\n",
    "'cat' in spam: This expression determines whether the word 'cat' is used as a dictionary key in spam. If the dictionary's key 'cat' is discovered, it returns True; if not, it returns False. In contrast to the values, it precisely checks for the key's presence.\n",
    "\n",
    "spam.values()'s \"cat\":\n",
    "This phrase determines whether the word 'cat' is listed as a value in the dictionary spam. If the dictionary's entries include the value \"cat,\" it returns True; if not, it returns False. Instead of looking for keys, it looks for the value"
   ]
  },
  {
   "cell_type": "markdown",
   "id": "584d8fff",
   "metadata": {},
   "source": [
    "# 7. What is a shortcut for the following code?\n",
    "if 'color' not in spam:\n",
    "spam['color'] = 'black'\n",
    "\n",
    "\n",
    "\n",
    "\n",
    "spam.setdefault('color', 'black')\n",
    "\n"
   ]
  },
  {
   "cell_type": "markdown",
   "id": "6517c5cd",
   "metadata": {},
   "source": [
    "# 8. How do you \"pretty print\" dictionary values using which module and function?"
   ]
  },
  {
   "cell_type": "code",
   "execution_count": 3,
   "id": "8449e37a",
   "metadata": {},
   "outputs": [
    {
     "name": "stdout",
     "output_type": "stream",
     "text": [
      "{'age': 30, 'city': 'New York', 'name': 'John'}\n"
     ]
    }
   ],
   "source": [
    "import pprint\n",
    "\n",
    "my_dict = {'name': 'John', 'age': 30, 'city': 'New York'}\n",
    "\n",
    "pprint.pprint(my_dict)"
   ]
  }
 ],
 "metadata": {
  "kernelspec": {
   "display_name": "Python 3 (ipykernel)",
   "language": "python",
   "name": "python3"
  },
  "language_info": {
   "codemirror_mode": {
    "name": "ipython",
    "version": 3
   },
   "file_extension": ".py",
   "mimetype": "text/x-python",
   "name": "python",
   "nbconvert_exporter": "python",
   "pygments_lexer": "ipython3",
   "version": "3.9.12"
  }
 },
 "nbformat": 4,
 "nbformat_minor": 5
}
