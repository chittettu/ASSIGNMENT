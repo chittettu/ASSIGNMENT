{
 "cells": [
  {
   "cell_type": "markdown",
   "id": "f86a0c05",
   "metadata": {},
   "source": [
    "# 1.What are keywords in python? Using the keyword library, print all the python keywords.\n",
    "\n",
    "In Python, keywords are reserved words that have special meanings and are used to define the syntax and structure of the language. These keywords cannot be used as variable names or identifiers because they are already predefined by Python.\n",
    "\n"
   ]
  },
  {
   "cell_type": "code",
   "execution_count": 1,
   "id": "7aec1c59",
   "metadata": {},
   "outputs": [
    {
     "name": "stdout",
     "output_type": "stream",
     "text": [
      "['False', 'None', 'True', '__peg_parser__', 'and', 'as', 'assert', 'async', 'await', 'break', 'class', 'continue', 'def', 'del', 'elif', 'else', 'except', 'finally', 'for', 'from', 'global', 'if', 'import', 'in', 'is', 'lambda', 'nonlocal', 'not', 'or', 'pass', 'raise', 'return', 'try', 'while', 'with', 'yield']\n"
     ]
    }
   ],
   "source": [
    "import keyword\n",
    "\n",
    "print(keyword.kwlist)"
   ]
  },
  {
   "cell_type": "markdown",
   "id": "be16e99c",
   "metadata": {},
   "source": [
    "# 2.What are the rules to create variables in python?\n",
    "When generating variables in Python, there are a few guidelines to follow. The main guidelines for generating variables in Python are as follows:\n",
    "\n",
    "Names of variables:\n",
    "\n",
    "\n",
    "Variable names must begin with either an underscore (_) or a letter (a-z, A-Z).\n",
    "A letter, an underscore, or a number (0–9) can be used as the second character following the first letter.\n",
    "\"myVariable\" and \"myvariable\" are regarded as separate variables since variable names are case-sensitive.\n",
    "Defining Terms:\n",
    "\n",
    "Python keywords are not allowed to be used as variable names. These terms cannot be used for other reasons since they have specific connotations in the language. You cannot use the words \"print,\" \"if,\" or \"for\" as variable names, for instance.\n",
    "Suitable Characters\n",
    "\n",
    "All that are permitted in variable names are letters, numbers, and underscores. The use of special characters like @, $, and % is not permitted.\n",
    "\n",
    "\n",
    "Readable and Descriptive:\n",
    "\n",
    "\n",
    "It is advised to choose variable names that express the variable's function or meaning.\n",
    "To improve the readability and maintainability of the code, variable names must be clear and comprehensible.\n",
    "\n",
    "Keep Built-In Names Out:\n",
    "\n",
    "It's preferable to stay away from utilising names for built-in Python modules, functions, or objects. Such names can cause arguments and erratic behaviour."
   ]
  },
  {
   "cell_type": "markdown",
   "id": "6f320097",
   "metadata": {},
   "source": [
    "# 3.What are the standards and conventions followed for the nomenclature of variables inpython to improve code readability and maintainability?\n",
    "Consider giving your variables names that appropriately explain their function or meaning. This aids in comprehending the operation of the code.\n",
    "\n",
    "Lowercase and underscores: Variable names should be written in lowercase characters, and underscores should be used to divide long words into individual words. This style is called \"snake_case.\" For instance: user_name, price_list, and total_count.\n",
    "\n",
    "Except for straightforward loop counters, it's advisable to stay away from single-character variable names. Choose names that are more evocative and reflect the variable's function instead.\n",
    "\n",
    "Be dependable: Maintain uniformity in your codebase's variable naming. To make the code more readable and understandable, assign linked variables similar naming schemes and patterns.\n",
    "\n",
    "Avoid using reserved terms in variable names. This includes Python keywords and built-in function names. By doing so, conflicts are reduced and the code is made clear.\n",
    "\n",
    "Use meaningful acronyms: If acronyms are used in variable names, make sure they are well-known and continue to be understandable. Don't use cryptic or unclear acronyms that might mislead readers.\n",
    "\n",
    "Class names: Class names should be written using the CamelCase convention, also called \"PascalCase,\" in which each word is capitalised. MyClass and SomeClass, for instance.\n",
    "\n",
    "Constants: The name of a variable should be written in capital letters if it is meant to be a constant (a value that does not change). Examples are MAX_VALUE and CONFIG_FILE.\n"
   ]
  },
  {
   "cell_type": "markdown",
   "id": "681e345a",
   "metadata": {},
   "source": [
    "# 4. What will happen if a keyword is used as a variable name?\n",
    "If a keyword is used as a variable name in Python, it will result in a syntax error. Python keywords are reserved words that have predefined meanings and are used to define the syntax and structure of the language. They cannot be used as variable names or identifiers."
   ]
  },
  {
   "cell_type": "markdown",
   "id": "cd6c59ab",
   "metadata": {},
   "source": [
    "# 5.For what purpose def keyword is used?\n",
    "The def keyword in Python is used to define a function. Functions are blocks of reusable code that perform specific tasks or calculations when called. The def keyword marks the beginning of a function definition and specifies the name of the function."
   ]
  },
  {
   "cell_type": "markdown",
   "id": "e740486f",
   "metadata": {},
   "source": [
    "# 6.What is the operation of this special character ‘\\’?\n",
    "In Python, the backslash (\\) is used as an escape character.\n",
    "\n",
    "sequences include:\n",
    "\n",
    "\\n: Represents a newline character.\n",
    "\n",
    "\\t: Represents a tab character.\n",
    "\n",
    "\"\\\": Represents a double quotation mark.\n",
    "\n",
    "'\\': Represents a single quotation mark.\n",
    "\n",
    "\"\\\\\": Represents a backslash itself."
   ]
  },
  {
   "cell_type": "markdown",
   "id": "bfedd55a",
   "metadata": {},
   "source": [
    "# 7.Give an example of the following conditions:\n",
    "(i) Homogeneous list\n",
    "(ii) Heterogeneous set\n",
    "(iii) Homogeneous tuple"
   ]
  },
  {
   "cell_type": "code",
   "execution_count": 2,
   "id": "712a1d21",
   "metadata": {},
   "outputs": [
    {
     "name": "stdout",
     "output_type": "stream",
     "text": [
      "[1, 2, 3, 4, 5]\n"
     ]
    }
   ],
   "source": [
    "homogeneous_list = [1, 2, 3, 4, 5]\n",
    "print(homogeneous_list)"
   ]
  },
  {
   "cell_type": "code",
   "execution_count": 3,
   "id": "2565eaf1",
   "metadata": {},
   "outputs": [
    {
     "name": "stdout",
     "output_type": "stream",
     "text": [
      "{1, (4, 5), 3.0, 'two'}\n"
     ]
    }
   ],
   "source": [
    "heterogeneous_set = {1, \"two\", 3.0, (4, 5)}\n",
    "print(heterogeneous_set)"
   ]
  },
  {
   "cell_type": "code",
   "execution_count": 4,
   "id": "cd94905c",
   "metadata": {},
   "outputs": [
    {
     "name": "stdout",
     "output_type": "stream",
     "text": [
      "('apple', 'banana', 'cherry')\n"
     ]
    }
   ],
   "source": [
    "homogeneous_tuple = (\"apple\", \"banana\", \"cherry\")\n",
    "print(homogeneous_tuple)"
   ]
  },
  {
   "cell_type": "markdown",
   "id": "f515af8b",
   "metadata": {},
   "source": [
    "# 8. Explain the mutable and immutable data types with proper explanation & examples.\n",
    "Mutable Data Types:\n",
    "\n",
    "Mutable objects can be modified or changed after they are created.\n",
    "When you modify a mutable object, its memory location remains the same.\n",
    "Examples of mutable data types in Python include lists, sets, and dictionaries."
   ]
  },
  {
   "cell_type": "code",
   "execution_count": 5,
   "id": "9e88eff0",
   "metadata": {},
   "outputs": [
    {
     "name": "stdout",
     "output_type": "stream",
     "text": [
      "[1, 2, 3, 4]\n"
     ]
    }
   ],
   "source": [
    "my_list = [1, 2, 3]\n",
    "my_list.append(4)  \n",
    "print(my_list) "
   ]
  },
  {
   "cell_type": "markdown",
   "id": "359b138d",
   "metadata": {},
   "source": [
    "Types of Immutable Data\n",
    "\n",
    "Once created, immutable items cannot be changed.\n",
    "An immutable object's value can only be changed by creating a new object in a different part of memory.\n",
    "In Python, immutable data types include floats, strings, tuples, and integers."
   ]
  },
  {
   "cell_type": "code",
   "execution_count": 7,
   "id": "c8db6edc",
   "metadata": {},
   "outputs": [
    {
     "name": "stdout",
     "output_type": "stream",
     "text": [
      "Hello World\n"
     ]
    }
   ],
   "source": [
    "my_string = \"Hello\"\n",
    "my_string = my_string + \" World\"  \n",
    "print(my_string)  "
   ]
  },
  {
   "cell_type": "markdown",
   "id": "571e3e24",
   "metadata": {},
   "source": [
    "# 9. Write a code to create the given structure using only for loop.\n",
    "*\n",
    "***\n",
    "*****\n",
    "*******\n",
    "*********\n"
   ]
  },
  {
   "cell_type": "code",
   "execution_count": 31,
   "id": "ee52e92c",
   "metadata": {},
   "outputs": [
    {
     "name": "stdout",
     "output_type": "stream",
     "text": [
      "          * \n",
      "        * * * \n",
      "      * * * * * \n",
      "    * * * * * * * \n",
      "  * * * * * * * * * \n"
     ]
    }
   ],
   "source": [
    "n=5\n",
    "for i in range(n):\n",
    "    for j in range(n-i):\n",
    "        print(' ', end=' ')\n",
    "    for k in range(2*i+1):\n",
    "        print('*',end=' ')\n",
    "    print()\n"
   ]
  },
  {
   "cell_type": "markdown",
   "id": "11e2c6d3",
   "metadata": {},
   "source": [
    "# 10.Write a code to create the given structure using while loop.\n",
    "|||||||||\n",
    "\n",
    " |||||||\n",
    "\n",
    "  |||||\n",
    "  \n",
    "   |||\n",
    "   \n",
    "    |"
   ]
  },
  {
   "cell_type": "code",
   "execution_count": 10,
   "id": "eeb94d76",
   "metadata": {},
   "outputs": [
    {
     "name": "stdout",
     "output_type": "stream",
     "text": [
      "|||||||||\n",
      " |||||||\n",
      "  |||||\n",
      "   |||\n",
      "    |\n"
     ]
    }
   ],
   "source": [
    "row = 5  # Number of rows in the structure\n",
    "column = 9  # Number of columns in the structure\n",
    "\n",
    "i = 0\n",
    "while i < row:\n",
    "    j = 0\n",
    "    while j < i:\n",
    "        print(\" \", end=\"\")\n",
    "        j += 1\n",
    "\n",
    "    j = 0\n",
    "    while j < column:\n",
    "        print(\"|\", end=\"\")\n",
    "        j += 1\n",
    "\n",
    "    print()  # Move to the next line\n",
    "    i += 1\n",
    "    column -= 2"
   ]
  }
 ],
 "metadata": {
  "kernelspec": {
   "display_name": "Python 3 (ipykernel)",
   "language": "python",
   "name": "python3"
  },
  "language_info": {
   "codemirror_mode": {
    "name": "ipython",
    "version": 3
   },
   "file_extension": ".py",
   "mimetype": "text/x-python",
   "name": "python",
   "nbconvert_exporter": "python",
   "pygments_lexer": "ipython3",
   "version": "3.9.12"
  }
 },
 "nbformat": 4,
 "nbformat_minor": 5
}
