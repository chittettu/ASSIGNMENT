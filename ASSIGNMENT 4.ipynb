{
 "cells": [
  {
   "cell_type": "markdown",
   "id": "b324d720",
   "metadata": {},
   "source": [
    "# 1. What exactly is []?\n",
    "An empty list is represented by [] in Python. A list is an ordered, changeable group of components that is contained in square brackets. It may have items of several data kinds, including texts, numbers, and even other lists."
   ]
  },
  {
   "cell_type": "markdown",
   "id": "dc1a4c67",
   "metadata": {},
   "source": [
    "# 2. In a list of values stored in a variable called spam, how would you assign the value 'hello' as the third value? (Assume [2, 4, 6, 8, 10] are in spam.)\n",
    ".\n"
   ]
  },
  {
   "cell_type": "code",
   "execution_count": 9,
   "id": "af6c5d7f",
   "metadata": {},
   "outputs": [
    {
     "name": "stdout",
     "output_type": "stream",
     "text": [
      "[2, 4, 'hello', 8, 10]\n"
     ]
    }
   ],
   "source": [
    "spam = [2, 4, 6, 8, 10]\n",
    "spam[2] = 'hello'\n",
    "print(spam)"
   ]
  },
  {
   "cell_type": "markdown",
   "id": "f3258893",
   "metadata": {},
   "source": [
    "# Let's pretend the spam includes the list ['a', 'b', 'c', 'd'] for the next three queries."
   ]
  },
  {
   "cell_type": "markdown",
   "id": "502c0c10",
   "metadata": {},
   "source": [
    "# 3. What is the value of spam[int(int('3' * 2) / 11)]?\n",
    "spam[int(int('3' * 2) / 11)]=spam[3]\n",
    "\n",
    "\n",
    "so, spam[3]=d"
   ]
  },
  {
   "cell_type": "markdown",
   "id": "6f673b60",
   "metadata": {},
   "source": [
    "# 4. What is the value of spam[-1]?"
   ]
  },
  {
   "cell_type": "code",
   "execution_count": 6,
   "id": "4cdee242",
   "metadata": {},
   "outputs": [
    {
     "data": {
      "text/plain": [
       "'d'"
      ]
     },
     "execution_count": 6,
     "metadata": {},
     "output_type": "execute_result"
    }
   ],
   "source": [
    "spam = ['a', 'b', 'c', 'd']\n",
    "spam[-1]"
   ]
  },
  {
   "cell_type": "markdown",
   "id": "ec7600aa",
   "metadata": {},
   "source": [
    "# 5. What is the value of spam[:2]?"
   ]
  },
  {
   "cell_type": "code",
   "execution_count": 7,
   "id": "f50c7af3",
   "metadata": {},
   "outputs": [
    {
     "data": {
      "text/plain": [
       "['a', 'b']"
      ]
     },
     "execution_count": 7,
     "metadata": {},
     "output_type": "execute_result"
    }
   ],
   "source": [
    "spam[:2]"
   ]
  },
  {
   "cell_type": "markdown",
   "id": "b66cdf60",
   "metadata": {},
   "source": [
    "# Let's pretend bacon has the list [3.14, 'cat,' 11, 'cat,' True] for the next three questions."
   ]
  },
  {
   "cell_type": "markdown",
   "id": "75989a24",
   "metadata": {},
   "source": [
    "# 6. What is the value of bacon.index('cat')?"
   ]
  },
  {
   "cell_type": "code",
   "execution_count": 12,
   "id": "5969b71d",
   "metadata": {},
   "outputs": [
    {
     "name": "stdout",
     "output_type": "stream",
     "text": [
      "1\n"
     ]
    }
   ],
   "source": [
    "bacon=[3.14, 'cat', 11, 'cat', True]\n",
    "a=bacon.index('cat')\n",
    "print(a)"
   ]
  },
  {
   "cell_type": "markdown",
   "id": "d1b8c6d0",
   "metadata": {},
   "source": [
    "# 7. How does bacon.append(99) change the look of the list value in bacon?"
   ]
  },
  {
   "cell_type": "code",
   "execution_count": 13,
   "id": "fadb7696",
   "metadata": {},
   "outputs": [
    {
     "name": "stdout",
     "output_type": "stream",
     "text": [
      "[3.14, 'cat', 11, 'cat', True, 99]\n"
     ]
    }
   ],
   "source": [
    "bacon.append(99)\n",
    "print(bacon)"
   ]
  },
  {
   "cell_type": "markdown",
   "id": "488ece20",
   "metadata": {},
   "source": [
    "# 8. How does bacon.remove('cat') change the look of the list in bacon?"
   ]
  },
  {
   "cell_type": "code",
   "execution_count": 14,
   "id": "ca95dbb9",
   "metadata": {},
   "outputs": [
    {
     "data": {
      "text/plain": [
       "[3.14, 11, 'cat', True, 99]"
      ]
     },
     "execution_count": 14,
     "metadata": {},
     "output_type": "execute_result"
    }
   ],
   "source": [
    "bacon.remove('cat')\n",
    "print(bacon)"
   ]
  },
  {
   "cell_type": "markdown",
   "id": "5d30bc36",
   "metadata": {},
   "source": [
    "# 9. What are the list concatenation and list replication operators?\n",
    "The + operator is used to concatenate two or more lists, resulting in a new list that has all the elements from the original lists in the specified order. The original listings are still in effect.\n",
    "\n",
    "\n",
    "The * operator's list replication feature enables you to duplicate a list a predetermined number of times, resulting in a new list with repeated entries. The initial list is still in effect."
   ]
  },
  {
   "cell_type": "markdown",
   "id": "d94dfb6a",
   "metadata": {},
   "source": [
    "# 10. What is difference between the list methods append() and insert()?\n",
    "\n",
    "The append() method is used to add an element at the end of a list. It modifies the list in place by adding the specified element as the last item."
   ]
  },
  {
   "cell_type": "code",
   "execution_count": 15,
   "id": "cfec1e1c",
   "metadata": {},
   "outputs": [
    {
     "name": "stdout",
     "output_type": "stream",
     "text": [
      "[1, 2, 3, 4]\n"
     ]
    }
   ],
   "source": [
    "my_list = [1, 2, 3]\n",
    "my_list.append(4)\n",
    "print(my_list)"
   ]
  },
  {
   "cell_type": "markdown",
   "id": "94ff45fa",
   "metadata": {},
   "source": [
    "To add an element to a list at a given index point, use the insert() function. By moving the current elements to create way for the new element, it alters the list already in place."
   ]
  },
  {
   "cell_type": "code",
   "execution_count": 16,
   "id": "afe03252",
   "metadata": {},
   "outputs": [
    {
     "name": "stdout",
     "output_type": "stream",
     "text": [
      "[1, 5, 2, 3]\n"
     ]
    }
   ],
   "source": [
    "my_list = [1, 2, 3]\n",
    "my_list.insert(1, 5)\n",
    "print(my_list)"
   ]
  },
  {
   "cell_type": "markdown",
   "id": "9bd4d252",
   "metadata": {},
   "source": [
    "# 11. What are the two methods for removing items from a list?\n",
    "Remove the first instance of a specified value from a list using the remove() function. The element that matches the given value is removed from the list as it is currently constructed."
   ]
  },
  {
   "cell_type": "code",
   "execution_count": 17,
   "id": "5ebeed15",
   "metadata": {},
   "outputs": [
    {
     "name": "stdout",
     "output_type": "stream",
     "text": [
      "[1, 3, 2]\n"
     ]
    }
   ],
   "source": [
    "my_list = [1, 2, 3, 2]\n",
    "my_list.remove(2)\n",
    "print(my_list)"
   ]
  },
  {
   "cell_type": "markdown",
   "id": "fd2f8ceb",
   "metadata": {},
   "source": [
    "An element can be removed from a given index point in a list using the pop() function. By deleting and reintroducing the element at the given index, it alters the list already in place. The final entry of the list is removed and returned if no index is given."
   ]
  },
  {
   "cell_type": "code",
   "execution_count": 18,
   "id": "a7a730e4",
   "metadata": {},
   "outputs": [
    {
     "name": "stdout",
     "output_type": "stream",
     "text": [
      "2\n",
      "[1, 3]\n"
     ]
    }
   ],
   "source": [
    "my_list = [1, 2, 3]\n",
    "popped_element = my_list.pop(1)\n",
    "print(popped_element)  \n",
    "print(my_list)"
   ]
  },
  {
   "cell_type": "markdown",
   "id": "4c348df2",
   "metadata": {},
   "source": [
    "# 12. Describe how list values and string values are identical.\n",
    "Both lists and strings include elements in a certain order. Lists can have items of several data kinds, including strings, integers, and even other lists. Contrarily, strings are made up of distinct characters. A list or string has a place or index inside the sequence for each entry.\n",
    "\n",
    "Indexing: Indexing, which enables accessing individual components depending on their location, is supported for both lists and strings. In both situations, indexing begins at 0, placing the first element at index 0, the second element at index 1, and so on.\n",
    "\n",
    "Slicing, which enables extracting a section of the sequence by defining a range of indices, is also supported by lists and strings. You may use slicing to make a new list or string that only includes a portion of the original components.\n",
    "\n",
    "Iteration: Using loops or other iteration strategies, you can iterate over both lists and strings. This makes it possible for you to access each element of the sequence separately.\n",
    "\n",
    "Immutability (String Only): One significant distinction between strings and lists is that once formed, strings cannot be changed. Every action that alters a string in some way really generates a fresh string. Lists, on the other hand, allow you to change, add, or remove components."
   ]
  },
  {
   "cell_type": "markdown",
   "id": "54a4548b",
   "metadata": {},
   "source": [
    "# 13. What's the difference between tuples and lists?\n",
    "Tuples are immutable, which means that once the tuple is generated, its elements cannot be changed. Lists, on the other hand, allow for the modification, addition, and removal of components.\n",
    "\n",
    "Tuples are frequently used to group together relevant bits of data. They can be thought of as unchangeable recordings. For dynamic data storage, lists, on the other hand, are more adaptable and often utilised since they support updates and operations like adding, extending, and sorting.\n",
    "\n",
    "When compared to lists, tuples often use less memory and perform a little bit quicker. This is because Python can optimise the storage and operations of tuples because they are immutable. Because they may be modified, lists use more memory and could have additional overhead."
   ]
  },
  {
   "cell_type": "markdown",
   "id": "11cf6e55",
   "metadata": {},
   "source": [
    "# 14. How do you type a tuple value that only contains the integer 42?"
   ]
  },
  {
   "cell_type": "code",
   "execution_count": 20,
   "id": "f94c98a9",
   "metadata": {},
   "outputs": [
    {
     "name": "stdout",
     "output_type": "stream",
     "text": [
      "(42,)\n"
     ]
    }
   ],
   "source": [
    "Tuple=(42,)\n",
    "print(Tuple)"
   ]
  },
  {
   "cell_type": "markdown",
   "id": "e97942e9",
   "metadata": {},
   "source": [
    "# 15. How do you get a list value's tuple form? How do you get a tuple value's list form?"
   ]
  },
  {
   "cell_type": "code",
   "execution_count": 21,
   "id": "3f839672",
   "metadata": {},
   "outputs": [
    {
     "name": "stdout",
     "output_type": "stream",
     "text": [
      "(1, 2, 3, 4, 5)\n"
     ]
    }
   ],
   "source": [
    "my_list = [1, 2, 3, 4, 5]\n",
    "my_tuple = tuple(my_list)\n",
    "print(my_tuple) "
   ]
  },
  {
   "cell_type": "code",
   "execution_count": 22,
   "id": "33cb231e",
   "metadata": {},
   "outputs": [
    {
     "name": "stdout",
     "output_type": "stream",
     "text": [
      "[1, 2, 3, 4, 5]\n"
     ]
    }
   ],
   "source": [
    "my_tuple = (1, 2, 3, 4, 5)\n",
    "my_list = list(my_tuple)\n",
    "print(my_list)"
   ]
  },
  {
   "cell_type": "markdown",
   "id": "9cb4f06c",
   "metadata": {},
   "source": [
    "# 16. Variables that \"contain\" list values are not necessarily lists themselves. Instead, what do they contain?\n",
    "\n",
    "In Python, list values are not really stored in the variables that \"contain\" them. They instead keep a pointer or reference to the list object in memory.\n",
    "\n",
    "In Python, variables are used to refer to objects such as lists, tuples, and dictionaries that are kept in memory. When you assign a list to a variable, the variable stores a reference to the memory address where the list is stored rather than the actual list itself.\n",
    "\n",
    "The list object is referenced by variables that contain list values, enabling access to and modification of the list through the variable. Even the same list object can be referenced by many variables, enabling aliasing and shared access to the list's elements."
   ]
  },
  {
   "cell_type": "markdown",
   "id": "0fbcf02f",
   "metadata": {},
   "source": [
    "# 17. How do you distinguish between copy.copy() and copy.deepcopy()?\n",
    "\n",
    "copy.copy() (Shallow Copy): The copy() method copies an object in a shallow manner. The references to the elements from the old object are copied to the newly created object. As they both make reference to the same underlying objects, changes made to the elements of the original object will also be reflected in the cloned object."
   ]
  },
  {
   "cell_type": "code",
   "execution_count": 23,
   "id": "e144f545",
   "metadata": {},
   "outputs": [
    {
     "name": "stdout",
     "output_type": "stream",
     "text": [
      "[1, 2, [3, 4, 5]]\n",
      "[1, 2, [3, 4, 5]]\n"
     ]
    }
   ],
   "source": [
    "import copy\n",
    "\n",
    "original_list = [1, 2, [3, 4]]\n",
    "copied_list = copy.copy(original_list)\n",
    "\n",
    "original_list[2].append(5)\n",
    "\n",
    "print(original_list)\n",
    "print(copied_list)"
   ]
  },
  {
   "cell_type": "markdown",
   "id": "7e5d20c9",
   "metadata": {},
   "source": [
    "The deepcopy() method makes a deep copy of an object using the copy. It builds an entirely separate duplicate of the object and recursively replicates every object nested within it. This implies that modifications made to the cloned item will not impact the original object or its nested objects."
   ]
  },
  {
   "cell_type": "code",
   "execution_count": 24,
   "id": "6c86542a",
   "metadata": {},
   "outputs": [
    {
     "name": "stdout",
     "output_type": "stream",
     "text": [
      "[1, 2, [3, 4, 5]]\n",
      "[1, 2, [3, 4]]\n"
     ]
    }
   ],
   "source": [
    "import copy\n",
    "\n",
    "original_list = [1, 2, [3, 4]]\n",
    "copied_list = copy.deepcopy(original_list)\n",
    "\n",
    "original_list[2].append(5)\n",
    "\n",
    "print(original_list)   \n",
    "print(copied_list) "
   ]
  }
 ],
 "metadata": {
  "kernelspec": {
   "display_name": "Python 3 (ipykernel)",
   "language": "python",
   "name": "python3"
  },
  "language_info": {
   "codemirror_mode": {
    "name": "ipython",
    "version": 3
   },
   "file_extension": ".py",
   "mimetype": "text/x-python",
   "name": "python",
   "nbconvert_exporter": "python",
   "pygments_lexer": "ipython3",
   "version": "3.9.12"
  }
 },
 "nbformat": 4,
 "nbformat_minor": 5
}
