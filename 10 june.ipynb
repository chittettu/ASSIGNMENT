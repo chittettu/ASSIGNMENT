{
 "cells": [
  {
   "cell_type": "markdown",
   "id": "0684329c",
   "metadata": {},
   "source": [
    "# 1. In Python, what is the difference between a built-in function and a user-defined function? Provide an example of each."
   ]
  },
  {
   "cell_type": "markdown",
   "id": "0a4cb534",
   "metadata": {},
   "source": [
    "1. Built-in Functions:\n",
    "\n",
    "Built-in functions are pre-defined functions that are provided by the Python programming language. These functions are readily available and can be used directly without requiring any additional coding or importing of modules.\n",
    "Built-in functions cover a wide range of functionalities, such as mathematical operations, string manipulation, data type conversion, file handling, input/output operations, etc.\n",
    "Examples of built-in functions in Python include print(), len(), type(), range(), str(), int(), sum(), max(), min(), sorted(), etc."
   ]
  },
  {
   "cell_type": "code",
   "execution_count": 5,
   "id": "a3950601",
   "metadata": {
    "scrolled": true
   },
   "outputs": [
    {
     "name": "stdout",
     "output_type": "stream",
     "text": [
      "sum of the elements in the list is 6932\n",
      "length of the list is 7\n"
     ]
    }
   ],
   "source": [
    "lst=[3214,2342,4,34,3,1212,123]\n",
    "total=sum(lst)\n",
    "length=len(lst)\n",
    "print(f\"sum of the elements in the list is {total}\")\n",
    "print(f\"length of the list is {length}\")\n",
    "\n"
   ]
  },
  {
   "cell_type": "markdown",
   "id": "5311d5d6",
   "metadata": {},
   "source": [
    "2. User-defined Functions:\n",
    "\n",
    "User-defined functions are created by the users or programmers to perform specific tasks or operations as per their requirements. These functions are defined using the def keyword followed by a function name, parameter(s) (optional), and a block of code that defines the functionality of the function.\n",
    "User-defined functions provide modularity and reusability as they allow the programmer to encapsulate a specific set of instructions within a function and call it whenever needed.\n",
    "Examples of user-defined functions in Python include functions created by the programmer to solve a specific problem or perform a specific task."
   ]
  },
  {
   "cell_type": "code",
   "execution_count": 7,
   "id": "21ffaec5",
   "metadata": {},
   "outputs": [
    {
     "name": "stdout",
     "output_type": "stream",
     "text": [
      "3628800\n"
     ]
    }
   ],
   "source": [
    "def factorial(n):\n",
    "    result = 1\n",
    "    for i in range(1, n + 1):\n",
    "        result *= i\n",
    "    return result\n",
    "\n",
    "number = 10\n",
    "fact = factorial(number)\n",
    "print(fact) "
   ]
  },
  {
   "cell_type": "markdown",
   "id": "855ab4ae",
   "metadata": {},
   "source": [
    "# 2. How can you pass arguments to a function in Python? Explain the difference between positional arguments and keyword arguments"
   ]
  },
  {
   "cell_type": "markdown",
   "id": "249aef15",
   "metadata": {},
   "source": [
    "1. In Python, you can pass arguments to a function in two ways: positional arguments and keyword arguments.\n",
    "\n",
    "Positional Arguments:\n",
    "\n",
    "Positional arguments are passed to a function based on their position or order in the function call.\n",
    "The order of the arguments in the function call must match the order of the parameters in the function definition.\n",
    "The number of positional arguments passed must match the number of parameters defined in the function.\n",
    "Positional arguments are the default way of passing arguments to a function if no specific keyword is used.\n",
    "\n"
   ]
  },
  {
   "cell_type": "code",
   "execution_count": 8,
   "id": "c494bb57",
   "metadata": {},
   "outputs": [
    {
     "name": "stdout",
     "output_type": "stream",
     "text": [
      "Hello, mahesh! You are 24 years old.\n"
     ]
    }
   ],
   "source": [
    "def details(name, age):\n",
    "    print(f\"Hello, {name}! You are {age} years old.\") \n",
    "\n",
    "details(\"mahesh\", 24)## positional arguments"
   ]
  },
  {
   "cell_type": "markdown",
   "id": "972e096d",
   "metadata": {},
   "source": [
    "2. Keyword Arguments:\n",
    "\n",
    "Keyword arguments are passed to a function using the name of the parameter along with its corresponding value.\n",
    "The order of the keyword arguments in the function call does not matter, as long as the parameter names are specified.\n",
    "Keyword arguments provide flexibility as they allow you to pass only specific arguments without considering their position.\n",
    "You can mix positional arguments and keyword arguments in a function call."
   ]
  },
  {
   "cell_type": "code",
   "execution_count": 10,
   "id": "cc2727e6",
   "metadata": {
    "scrolled": true
   },
   "outputs": [
    {
     "name": "stdout",
     "output_type": "stream",
     "text": [
      "Hello, mahesh! You are 24 years old.\n"
     ]
    }
   ],
   "source": [
    "def details(name, age):\n",
    "    print(f\"Hello, {name}! You are {age} years old.\") \n",
    "\n",
    "details(age=24,name=\"mahesh\")##keyword arguments"
   ]
  },
  {
   "cell_type": "markdown",
   "id": "10537d27",
   "metadata": {},
   "source": [
    "# 3. What is the purpose of the return statement in a function? Can a function have multiple return statements? Explain with an example.\n"
   ]
  },
  {
   "cell_type": "markdown",
   "id": "34943fd2",
   "metadata": {},
   "source": [
    "The return statement in a function is used to specify the value(s) that the function should return when it is called. It serves two main purposes:\n",
    "\n",
    "Returning a Value: The primary purpose of the return statement is to provide the output or result of a function. It allows the function to send back a value or a set of values to the caller of the function.\n",
    "\n",
    "Exiting the Function: When a return statement is encountered in a function, it immediately terminates the execution of the function and returns control to the caller.\n",
    "\n",
    "A function can have multiple return statements, but only one return statement is executed during the function call. When the return statement is reached, the function exits, and the specified value is returned. If there are multiple return statements, only the first encountered return statement is executed, and the subsequent statements are ignored."
   ]
  },
  {
   "cell_type": "code",
   "execution_count": 12,
   "id": "430bc07b",
   "metadata": {},
   "outputs": [
    {
     "name": "stdout",
     "output_type": "stream",
     "text": [
      "Even\n",
      "Odd\n"
     ]
    }
   ],
   "source": [
    "def check_even_odd(number):\n",
    "    if number % 2 == 0:\n",
    "        return \"Even\"\n",
    "    else:\n",
    "        return \"Odd\"\n",
    "\n",
    "result1 = check_even_odd(64)\n",
    "print(result1) \n",
    "\n",
    "result2 = check_even_odd(87)\n",
    "print(result2)"
   ]
  },
  {
   "cell_type": "markdown",
   "id": "0715fa9f",
   "metadata": {},
   "source": [
    "In this example, the check_even_odd() function takes a number as an argument. It checks if the number is even or odd using the modulus operator %. If the number is divisible by 2 without a remainder (i.e., the modulus is 0), the function returns the string \"Even\". Otherwise, it returns the string \"Odd\".\n",
    "\n",
    "When we call check_even_odd(64), the function encounters the first return statement, and it returns \"Even\". Hence, the value of result1 is \"Even\", which is printed.\n",
    "\n",
    "Similarly, when we call check_even_odd(87), the function encounters the second return statement, and it returns \"Odd\". Thus, the value of result2 is \"Odd\", which is printed.\n",
    "\n",
    "In summary, the return statement allows a function to provide a value as its output, and a function can have multiple return statements, but only one is executed during a function call."
   ]
  },
  {
   "cell_type": "markdown",
   "id": "bf42f00d",
   "metadata": {},
   "source": [
    "# 4. What are lambda functions in Python? How are they different from regular functions? Provide an example where a lambda function can be useful "
   ]
  },
  {
   "cell_type": "markdown",
   "id": "cd804097",
   "metadata": {},
   "source": [
    "Lambda functions, also known as anonymous functions, are small, inline functions in Python that are defined without a name. They are typically used for simple, one-line operations and are created using the lambda keyword. The syntax for a lambda function is: lambda arguments: expression.\n",
    "\n",
    "Here are some key characteristics and differences of lambda functions compared to regular functions:\n",
    "\n",
    "Anonymous: Lambda functions do not have a name. They are defined using the lambda keyword followed by the function's arguments and expression. They are mainly used when the functionality required is small and can be expressed concisely in a single line.\n",
    "\n",
    "Single Expression: Lambda functions are limited to a single expression. They are not designed for complex operations or multiple lines of code. The result of the expression is automatically returned.\n",
    "\n",
    "No Statements: Lambda functions cannot contain statements or assignments. They can only have an expression that is evaluated and returned.\n",
    "\n",
    "Function Objects: Lambda functions are function objects that can be assigned to variables or passed as arguments to other functions. They can be used wherever a function object is expected."
   ]
  },
  {
   "cell_type": "code",
   "execution_count": 14,
   "id": "d1957c7b",
   "metadata": {
    "scrolled": true
   },
   "outputs": [
    {
     "name": "stdout",
     "output_type": "stream",
     "text": [
      "256\n"
     ]
    }
   ],
   "source": [
    "square = lambda x: x ** 2\n",
    "\n",
    "result = square(16)\n",
    "print(result)"
   ]
  },
  {
   "cell_type": "markdown",
   "id": "1b5ea546",
   "metadata": {},
   "source": [
    "# 5. How does the concept of \"scope\" apply to functions in Python? Explain the difference between local scope and global scope"
   ]
  },
  {
   "cell_type": "markdown",
   "id": "12e73b92",
   "metadata": {},
   "source": [
    "\n",
    "In Python, the concept of \"scope\" refers to the visibility and accessibility of variables within a program. It determines where a variable can be accessed and whether it is accessible to other parts of the code. The scope of a variable is defined by its location in the code and the rules that govern its visibility.\n",
    "\n",
    "Local Scope:\n",
    "\n",
    "Local scope refers to the portion of code within a function where variables are defined. These variables are known as local variables.\n",
    "Local variables are only accessible within the specific function or block where they are defined. They cannot be accessed outside of that function or block.\n",
    "Local variables have local scope, meaning they exist only within their enclosing function or block and are destroyed when the function or block is completed."
   ]
  },
  {
   "cell_type": "code",
   "execution_count": 16,
   "id": "acc69606",
   "metadata": {},
   "outputs": [
    {
     "name": "stdout",
     "output_type": "stream",
     "text": [
      "10\n"
     ]
    }
   ],
   "source": [
    "def my_function():\n",
    "    x = 10##local variable\n",
    "    print(x) \n",
    "my_function()"
   ]
  },
  {
   "cell_type": "markdown",
   "id": "58e92f68",
   "metadata": {},
   "source": [
    "2. Global Scope:\n",
    "\n",
    "Global scope refers to the top-level scope of a Python program or module. Variables defined outside of any function or block have global scope and are known as global variables.\n",
    "Global variables are accessible from any part of the program, including functions, as long as they are not shadowed by local variables of the same name.\n",
    "Global variables remain in memory throughout the entire program's execution."
   ]
  },
  {
   "cell_type": "code",
   "execution_count": 17,
   "id": "20a0c383",
   "metadata": {},
   "outputs": [
    {
     "name": "stdout",
     "output_type": "stream",
     "text": [
      "10\n"
     ]
    }
   ],
   "source": [
    "x = 10##Global variable\n",
    "def my_function():\n",
    "    print(x) \n",
    "my_function()"
   ]
  },
  {
   "cell_type": "markdown",
   "id": "fc9b5aef",
   "metadata": {},
   "source": [
    "# 6. How can you use the \"return\" statement in a Python function to return multiple values?\n"
   ]
  },
  {
   "cell_type": "markdown",
   "id": "0a57a6e4",
   "metadata": {},
   "source": [
    "1. Using a Tuple: You can return multiple values as a tuple by separating them with commas. The values are implicitly packed into a tuple, which can be unpacked when the function is called."
   ]
  },
  {
   "cell_type": "code",
   "execution_count": 19,
   "id": "4249f3c6",
   "metadata": {},
   "outputs": [
    {
     "name": "stdout",
     "output_type": "stream",
     "text": [
      "(32, 213, 123)\n"
     ]
    }
   ],
   "source": [
    "def get_values():\n",
    "    x = 32\n",
    "    y = 213\n",
    "    z = 123\n",
    "    return x, y, z\n",
    "\n",
    "result = get_values()\n",
    "print(result)"
   ]
  },
  {
   "cell_type": "markdown",
   "id": "74ca008a",
   "metadata": {},
   "source": [
    "2. Using a List: Similar to a tuple, you can also return multiple values as a list. The values are explicitly packed into a list and can be accessed using list indexing."
   ]
  },
  {
   "cell_type": "code",
   "execution_count": 20,
   "id": "26e4624e",
   "metadata": {},
   "outputs": [
    {
     "name": "stdout",
     "output_type": "stream",
     "text": [
      "[32, 213, 123]\n"
     ]
    }
   ],
   "source": [
    "def get_values():\n",
    "    x = 32\n",
    "    y = 213\n",
    "    z = 123\n",
    "    return [x, y, z]\n",
    "\n",
    "result = get_values()\n",
    "print(result)"
   ]
  },
  {
   "cell_type": "markdown",
   "id": "6e7c16b7",
   "metadata": {},
   "source": [
    "3. Using a Dictionary: If you want to return multiple values with named references, you can use a dictionary. Each value is associated with a specific key, allowing you to access the values using their respective keys."
   ]
  },
  {
   "cell_type": "code",
   "execution_count": 21,
   "id": "22d4e712",
   "metadata": {},
   "outputs": [
    {
     "name": "stdout",
     "output_type": "stream",
     "text": [
      "{'x': 32, 'y': 213, 'z': 123}\n"
     ]
    }
   ],
   "source": [
    "def get_values():\n",
    "    x = 32\n",
    "    y = 213\n",
    "    z = 123\n",
    "    return {'x': x, 'y': y, 'z': z}\n",
    "\n",
    "result = get_values()\n",
    "print(result)"
   ]
  },
  {
   "cell_type": "markdown",
   "id": "b9f925ae",
   "metadata": {},
   "source": [
    "4. Using Namedtuples: Namedtuples provide a way to define lightweight, immutable data structures with named fields. You can use namedtuples to return multiple values with named references."
   ]
  },
  {
   "cell_type": "code",
   "execution_count": 24,
   "id": "3ebed131",
   "metadata": {},
   "outputs": [
    {
     "name": "stdout",
     "output_type": "stream",
     "text": [
      "Point(x=10, y=20, z=30)\n"
     ]
    }
   ],
   "source": [
    "from collections import namedtuple\n",
    "\n",
    "def get_values():\n",
    "    Point = namedtuple('Point', ['x', 'y', 'z'])\n",
    "    return Point(10, 20, 30)\n",
    "\n",
    "result = get_values()\n",
    "print(result)"
   ]
  },
  {
   "cell_type": "markdown",
   "id": "4d119a90",
   "metadata": {},
   "source": [
    "# 7. What is the difference between the \"pass by value\" and \"pass by reference\" concepts when it comes to function arguments in Python?\n"
   ]
  },
  {
   "cell_type": "markdown",
   "id": "a1d4675f",
   "metadata": {},
   "source": [
    "In Python, the concepts of \"pass by value\" and \"pass by reference\" relate to how function arguments are passed and how the values of variables are handled during function calls. However, it's important to note that Python uses a different mechanism for passing arguments compared to languages that strictly follow either \"pass by value\" or \"pass by reference.\"\n",
    "\n",
    "Pass by Value:\n",
    "\n",
    "In \"pass by value,\" a copy of the value of a variable is passed to the function. Any modifications made to the parameter within the function do not affect the original variable outside the function.\n",
    "In languages that strictly follow \"pass by value,\" the original variable's value cannot be changed by the function.\n",
    "Pass by Reference:\n",
    "\n",
    "In \"pass by reference,\" a reference to the variable is passed to the function. Any modifications made to the parameter within the function will also affect the original variable outside the function.\n",
    "In languages that strictly follow \"pass by reference,\" the original variable can be modified by the function.\n",
    "In Python, the situation is a bit different as it uses a hybrid approach that is often referred to as \"pass by assignment\" or \"pass by object reference.\" The key points to understand are:\n",
    "\n",
    "Immutable objects (e.g., numbers, strings, tuples) are passed by value. Changes made to the parameter within the function do not affect the original object outside the function.\n",
    "Mutable objects (e.g., lists, dictionaries, custom objects) are passed by reference. Changes made to the parameter within the function can affect the original object outside the function."
   ]
  },
  {
   "cell_type": "markdown",
   "id": "23ce963a",
   "metadata": {},
   "source": [
    "# 8. Create a function that can intake integer or decimal value and do following operations:\n",
    "a. Logarithmic function (log x)\n",
    "b. Exponential function (exp(x))\n",
    "c. Power function with base 2 (2\n",
    "x\n",
    ")\n",
    "d. Square root"
   ]
  },
  {
   "cell_type": "code",
   "execution_count": 4,
   "id": "4714469f",
   "metadata": {},
   "outputs": [
    {
     "name": "stdout",
     "output_type": "stream",
     "text": [
      "Logarithmic value of 8: 2.0794415416798357\n",
      "Exponential value of 8: 2980.9579870417283\n",
      "Power value (base 2) of 8: 256.0\n",
      "Square root value of 8: 2.8284271247461903\n"
     ]
    }
   ],
   "source": [
    "import math\n",
    "\n",
    "def calculate_operations(x):\n",
    "    result = {\n",
    "        'logarithmic': math.log(x),\n",
    "        'exponential': math.exp(x),\n",
    "        'power': math.pow(2, x),\n",
    "        'square_root': math.sqrt(x)\n",
    "    }\n",
    "    return result\n",
    "\n",
    "\n",
    "input_value = 8\n",
    "operations_result = calculate_operations(input_value)\n",
    "\n",
    "print(f\"Logarithmic value of {input_value}: {operations_result['logarithmic']}\")\n",
    "print(f\"Exponential value of {input_value}: {operations_result['exponential']}\")\n",
    "print(f\"Power value (base 2) of {input_value}: {operations_result['power']}\")\n",
    "print(f\"Square root value of {input_value}: {operations_result['square_root']}\")"
   ]
  },
  {
   "cell_type": "markdown",
   "id": "4e384d94",
   "metadata": {},
   "source": [
    "# 9. Create a function that takes a full name as an argument and returns first name and last name"
   ]
  },
  {
   "cell_type": "code",
   "execution_count": 8,
   "id": "3773d5dc",
   "metadata": {},
   "outputs": [
    {
     "name": "stdout",
     "output_type": "stream",
     "text": [
      "First name: Mahesh\n",
      "Last name: K\n"
     ]
    }
   ],
   "source": [
    "def name(full_name):\n",
    "    names = full_name.split()\n",
    "    first_name = names[0]\n",
    "    last_name = names[-1]\n",
    "    \n",
    "    return first_name, last_name\n",
    "\n",
    "\n",
    "full_name = \"Mahesh K\"\n",
    "first_name, last_name= name(full_name)\n",
    "\n",
    "print(f\"First name: {first_name}\")\n",
    "print(f\"Last name: {last_name}\")"
   ]
  },
  {
   "cell_type": "code",
   "execution_count": null,
   "id": "6951caaf",
   "metadata": {},
   "outputs": [],
   "source": []
  }
 ],
 "metadata": {
  "kernelspec": {
   "display_name": "Python 3 (ipykernel)",
   "language": "python",
   "name": "python3"
  },
  "language_info": {
   "codemirror_mode": {
    "name": "ipython",
    "version": 3
   },
   "file_extension": ".py",
   "mimetype": "text/x-python",
   "name": "python",
   "nbconvert_exporter": "python",
   "pygments_lexer": "ipython3",
   "version": "3.9.12"
  }
 },
 "nbformat": 4,
 "nbformat_minor": 5
}
