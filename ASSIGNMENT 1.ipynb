{
 "cells": [
  {
   "cell_type": "markdown",
   "id": "8f18582a",
   "metadata": {},
   "source": [
    "# 1. In the below elements which of them are values or an expression? eg:- values can be integer or string and expressions will be mathematical operators.\n",
    "\n",
    "Values: 'hello', -87.8\n",
    "\n",
    "Expression: -, /, +, *\n"
   ]
  },
  {
   "cell_type": "markdown",
   "id": "f709ad45",
   "metadata": {},
   "source": [
    "# 2. What is the difference between string and variable?\n",
    "A data type called a string is used to represent a string of characters. Textual data is frequently stored and altered using this technique. The standard method for enclosing strings is with quotation marks, either single ('') or double (\"\"). A variable, on the other hand, is a named area of computer memory that stores a value. Strings and other types of data of all kinds are stored and processed using it. During the running of a program, variables are used to store various types of data. They may be given a value, and as the program runs, that value may change. ."
   ]
  },
  {
   "cell_type": "markdown",
   "id": "00077829",
   "metadata": {},
   "source": [
    "# 3. Describe three different data types.\n",
    "1.Integers:\n",
    "Without any decimal points, the integer data type represents only whole numbers. It could be zero, positive, or even negative. When working with whole numbers in your program, integers are used. For example: age = 25\n",
    "quantity = -10\n",
    "\n",
    "\n",
    "2.Float:\n",
    "Numbers with decimal points are represented using the float data type. For calculations involving values with fractional parts, floats are frequently used. They can also stand in for extremely high or extremely low numbers. Adding a decimal point or using scientific notation both define floats.\n",
    "example: pi = 3.14\n",
    "temperature = -12.5\n",
    "\n",
    "\n",
    "\n",
    "3.Float:\n",
    "Character sequences, like text, are represented by the string data type. In Python, single quotes ('') or double quotes (\"\") are used to enclose strings. They may include symbols, letters, numbers, and spaces. In a program, strings are frequently used to represent names, messages, or any other textual data. \n",
    "example: \"car\"\n",
    "message = \"Hello, World!\""
   ]
  },
  {
   "cell_type": "markdown",
   "id": "eb465521",
   "metadata": {},
   "source": [
    "# 4. What is an expression made up of? What do all expressions do?\n",
    "\n",
    "An expression in Python is a collection of values, variables, operators, and calls to functions that can be evaluated to produce a result. Essentially, it is a piece of code that produces a value.\n",
    "\n",
    "\n",
    "Expressions can be made up of a variety of components, such as:\n",
    "\n",
    "\n",
    "Values: These can be literals like strings or numbers (for example, \"Hello, World!\" or 42. Variables with predetermined values can also be considered values.\n",
    "\n",
    "\n",
    "Operators: When working with values or variables, operators apply specific operations. Numeral operators (+, -, *, /), comparison operators (>,, ==,!=), logical operators (and, or, not), and others are examples of operators.\n",
    "\n",
    "\n",
    "Identifiers that stand in for a memory location where a value is stored are called variables. Data that can be used in expressions or altered as necessary is stored in variables.\n",
    "\n",
    "\n",
    "Expressions are used extensively in Python to perform computations, make decisions, and manipulate data. They can be used in assignments, conditions, loops, and more. When an expression is evaluated, it produces a resulting value."
   ]
  },
  {
   "cell_type": "markdown",
   "id": "2d9c0451",
   "metadata": {},
   "source": [
    "# 5. This assignment statements, like spam = 10. What is the difference between an expression and a statement?\n",
    "\n",
    "spam = 10  This is an assignment statement that assigns the value 10 to the variable 'spam'\n",
    "\n",
    "A collection of values, variables, operators, and function calls make up an expression, which can be evaluated to produce a value. Expressions can be viewed as the building blocks that lead to outcomes. They can be as simple as a single value or as complex as a combination of multiple operators and function calls. Statements can contain expressions that carry out calculations, make decisions, or set values for variables. Calculations, string concatenation, function calls, and comparisons are a few examples of expressions. \n",
    "\n",
    "A statement is a complete instruction that carries out a specific action or task. The logic and control flow of a program are constructed from statements. Each statement, which is carried out one after the other, denotes a particular action that the program is to carry out. Assignments, conditionals, loops, function definitions, and other things are all examples of statements. Statements, in contrast to expressions, do not always result in a value.\n",
    "\n"
   ]
  },
  {
   "cell_type": "markdown",
   "id": "2e21f02d",
   "metadata": {},
   "source": [
    "# 6. After running the following code, what does the variable bacon contain?\n",
    "bacon = 22\n",
    "\n",
    "\n",
    "bacon + 1\n",
    "\n",
    "bacon=bacon+1=23"
   ]
  },
  {
   "cell_type": "markdown",
   "id": "bdb26779",
   "metadata": {},
   "source": [
    "# 7. What should the values of the following two terms be?\n",
    "'spam' + 'spamspam'\n",
    "\n",
    "\n",
    "'spam' * 3\n"
   ]
  },
  {
   "cell_type": "code",
   "execution_count": 2,
   "id": "4317ab95",
   "metadata": {},
   "outputs": [
    {
     "name": "stdout",
     "output_type": "stream",
     "text": [
      "spamspamspam\n",
      "spamspamspam\n"
     ]
    }
   ],
   "source": [
    "a='spam'+'spamspam'\n",
    "b='spam'*3\n",
    "print(a)\n",
    "print(b)"
   ]
  },
  {
   "cell_type": "markdown",
   "id": "ec33f561",
   "metadata": {},
   "source": [
    "# 8. Why is eggs a valid variable name while 100 is invalid?\n",
    "\n",
    "Variable name because it starts with a digit, violating the rule that variable names cannot start with a digit."
   ]
  },
  {
   "cell_type": "markdown",
   "id": "5acacc31",
   "metadata": {},
   "source": [
    "# 9. What three functions can be used to get the integer, floating-point number, or string version of a value?\n",
    "\n",
    "int():\n",
    "The int() function can be used to convert a value to an integer.\n",
    "\n",
    "eg: num = int(\"42\")   Converts the string \"42\" to an integer value 42\n",
    "\n",
    "\n",
    "float():\n",
    "The float() function converts a value to a floating-point number.\n",
    "\n",
    "eg: num = float(\"3.14\")   Converts the string \"3.14\" to a float value 3.14\n",
    "\n",
    "str()\n",
    "The str() function converts a value to its string representation.\n",
    "\n",
    "eg: text = str(42)   Converts the integer value 42 to the string \"42\"\n"
   ]
  },
  {
   "cell_type": "markdown",
   "id": "c1500a56",
   "metadata": {},
   "source": [
    "# 10. Why does this expression cause an error? How can you fix it?\n",
    "'I have eaten ' + 99 + ' burritos.'\n",
    "\n",
    "\n"
   ]
  },
  {
   "cell_type": "code",
   "execution_count": 3,
   "id": "2fda8247",
   "metadata": {},
   "outputs": [
    {
     "data": {
      "text/plain": [
       "'I have eaten 99 burritos.'"
      ]
     },
     "execution_count": 3,
     "metadata": {},
     "output_type": "execute_result"
    }
   ],
   "source": [
    "'I have eaten ' + str(99) + ' burritos.'"
   ]
  }
 ],
 "metadata": {
  "kernelspec": {
   "display_name": "Python 3 (ipykernel)",
   "language": "python",
   "name": "python3"
  },
  "language_info": {
   "codemirror_mode": {
    "name": "ipython",
    "version": 3
   },
   "file_extension": ".py",
   "mimetype": "text/x-python",
   "name": "python",
   "nbconvert_exporter": "python",
   "pygments_lexer": "ipython3",
   "version": "3.9.12"
  }
 },
 "nbformat": 4,
 "nbformat_minor": 5
}
